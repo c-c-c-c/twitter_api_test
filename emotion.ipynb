{
 "cells": [
  {
   "cell_type": "code",
   "execution_count": 18,
   "metadata": {},
   "outputs": [],
   "source": [
    "import pandas as pd"
   ]
  },
  {
   "cell_type": "code",
   "execution_count": 2,
   "metadata": {},
   "outputs": [
    {
     "data": {
      "text/plain": [
       "{'text': '彼のことは嫌いではない！(;´Д`)',\n",
       " 'emotion': defaultdict(list, {'yorokobi': ['嫌い*CVS'], 'suki': ['嫌い*CVS']}),\n",
       " 'orientation': 'POSITIVE',\n",
       " 'activation': 'NEUTRAL',\n",
       " 'emoticon': ['(;´Д`)'],\n",
       " 'intension': 2,\n",
       " 'intensifier': {'exclamation': ['！'],\n",
       "  'emotikony': ['´Д`', 'Д`', '´Д', '(;´Д`)']},\n",
       " 'representative': ('yorokobi', ['嫌い*CVS'])}"
      ]
     },
     "execution_count": 2,
     "metadata": {},
     "output_type": "execute_result"
    }
   ],
   "source": [
    "from mlask import MLAsk\n",
    "emotion_analyzer = MLAsk()\n",
    "\n",
    "emotion_analyzer.analyze('彼のことは嫌いではない！(;´Д`)')"
   ]
  },
  {
   "cell_type": "code",
   "execution_count": 32,
   "metadata": {},
   "outputs": [],
   "source": [
    "df = pd.read_csv(\"./0326baio.csv\")"
   ]
  },
  {
   "cell_type": "code",
   "execution_count": 53,
   "metadata": {},
   "outputs": [
    {
     "name": "stdout",
     "output_type": "stream",
     "text": [
      "representative: ('iya', ['惜しい']) orientation: NEGATIVE ,  activation: NEUTRAL\n"
     ]
    },
    {
     "ename": "KeyError",
     "evalue": "'iya'",
     "output_type": "error",
     "traceback": [
      "\u001b[0;31m---------------------------------------------------------------------------\u001b[0m",
      "\u001b[0;31mKeyError\u001b[0m                                  Traceback (most recent call last)",
      "\u001b[0;32m<ipython-input-53-193f3b60f021>\u001b[0m in \u001b[0;36m<module>\u001b[0;34m\u001b[0m\n\u001b[1;32m      6\u001b[0m     \u001b[0;32mif\u001b[0m \u001b[0;34m\"orientation\"\u001b[0m \u001b[0;32min\u001b[0m \u001b[0mtmp_result\u001b[0m\u001b[0;34m.\u001b[0m\u001b[0mkeys\u001b[0m\u001b[0;34m(\u001b[0m\u001b[0;34m)\u001b[0m\u001b[0;34m:\u001b[0m\u001b[0;34m\u001b[0m\u001b[0;34m\u001b[0m\u001b[0m\n\u001b[1;32m      7\u001b[0m         \u001b[0mprint\u001b[0m \u001b[0;34m(\u001b[0m\u001b[0;34m\"representative:\"\u001b[0m\u001b[0;34m,\u001b[0m\u001b[0mtmp_result\u001b[0m\u001b[0;34m[\u001b[0m\u001b[0;34m\"representative\"\u001b[0m\u001b[0;34m]\u001b[0m \u001b[0;34m,\u001b[0m \u001b[0;34m\"orientation:\"\u001b[0m \u001b[0;34m,\u001b[0m \u001b[0mtmp_result\u001b[0m\u001b[0;34m[\u001b[0m\u001b[0;34m\"orientation\"\u001b[0m\u001b[0;34m]\u001b[0m\u001b[0;34m,\u001b[0m \u001b[0;34m\",  activation:\"\u001b[0m\u001b[0;34m,\u001b[0m \u001b[0mtmp_result\u001b[0m\u001b[0;34m[\u001b[0m\u001b[0;34m\"activation\"\u001b[0m\u001b[0;34m]\u001b[0m\u001b[0;34m)\u001b[0m\u001b[0;34m\u001b[0m\u001b[0;34m\u001b[0m\u001b[0m\n\u001b[0;32m----> 8\u001b[0;31m         \u001b[0;32mif\u001b[0m \u001b[0;32mnot\u001b[0m \u001b[0mresult_dict\u001b[0m\u001b[0;34m[\u001b[0m\u001b[0mtmp_result\u001b[0m\u001b[0;34m[\u001b[0m\u001b[0;34m\"representative\"\u001b[0m\u001b[0;34m]\u001b[0m\u001b[0;34m[\u001b[0m\u001b[0;36m0\u001b[0m\u001b[0;34m]\u001b[0m\u001b[0;34m]\u001b[0m \u001b[0;32min\u001b[0m \u001b[0mresult_dict\u001b[0m\u001b[0;34m.\u001b[0m\u001b[0mkeys\u001b[0m\u001b[0;34m(\u001b[0m\u001b[0;34m)\u001b[0m\u001b[0;34m:\u001b[0m\u001b[0;34m\u001b[0m\u001b[0;34m\u001b[0m\u001b[0m\n\u001b[0m\u001b[1;32m      9\u001b[0m             \u001b[0mresult_dict\u001b[0m\u001b[0;34m[\u001b[0m\u001b[0mtmp_result\u001b[0m\u001b[0;34m[\u001b[0m\u001b[0;34m\"representative\"\u001b[0m\u001b[0;34m]\u001b[0m\u001b[0;34m[\u001b[0m\u001b[0;36m0\u001b[0m\u001b[0;34m]\u001b[0m\u001b[0;34m]\u001b[0m \u001b[0;34m=\u001b[0m \u001b[0;36m1\u001b[0m\u001b[0;34m\u001b[0m\u001b[0;34m\u001b[0m\u001b[0m\n\u001b[1;32m     10\u001b[0m         \u001b[0;32melse\u001b[0m\u001b[0;34m:\u001b[0m\u001b[0;34m\u001b[0m\u001b[0;34m\u001b[0m\u001b[0m\n",
      "\u001b[0;31mKeyError\u001b[0m: 'iya'"
     ]
    }
   ],
   "source": [
    "result_dict = {}\n",
    "no_emo = 0\n",
    "for tmp_text in df[df [\"retweet\"] < 10].text:\n",
    "#     print(tmp_text)\n",
    "    tmp_result = emotion_analyzer.analyze(tmp_text)\n",
    "    if \"orientation\" in tmp_result.keys():\n",
    "        print (\"representative:\",tmp_result[\"representative\"] , \"orientation:\" , tmp_result[\"orientation\"], \",  activation:\", tmp_result[\"activation\"])\n",
    "        if not tmp_result[\"representative\"][0] in result_dict.keys():\n",
    "            result_dict[tmp_result[\"representative\"][0]] = 1\n",
    "        else:\n",
    "            result_dict[tmp_result[\"representative\"][0]] += 1\n",
    "        \n",
    "    else:\n",
    "        no_emo+=1\n",
    "        "
   ]
  },
  {
   "cell_type": "code",
   "execution_count": 48,
   "metadata": {},
   "outputs": [
    {
     "data": {
      "text/plain": [
       "363"
      ]
     },
     "execution_count": 48,
     "metadata": {},
     "output_type": "execute_result"
    }
   ],
   "source": [
    "no_emo"
   ]
  }
 ],
 "metadata": {
  "kernelspec": {
   "display_name": "Python 3",
   "language": "python",
   "name": "python3"
  },
  "language_info": {
   "codemirror_mode": {
    "name": "ipython",
    "version": 3
   },
   "file_extension": ".py",
   "mimetype": "text/x-python",
   "name": "python",
   "nbconvert_exporter": "python",
   "pygments_lexer": "ipython3",
   "version": "3.7.6"
  }
 },
 "nbformat": 4,
 "nbformat_minor": 4
}
