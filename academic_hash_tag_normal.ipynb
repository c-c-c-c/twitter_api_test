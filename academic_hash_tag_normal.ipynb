{
 "cells": [
  {
   "cell_type": "code",
   "execution_count": 2,
   "metadata": {
    "code_folding": []
   },
   "outputs": [],
   "source": [
    "#JSONとOAuth認証用のライブラリを使用\n",
    "import json\n",
    "from requests_oauthlib import OAuth1Session\n",
    "import tweepy\n",
    "import os\n",
    "\n"
   ]
  },
  {
   "cell_type": "code",
   "execution_count": 3,
   "metadata": {},
   "outputs": [],
   "source": [
    "#import setting\n",
    "import ac_setting as setting\n",
    "\n",
    "\n",
    "twitter = OAuth1Session(setting.CONSUMER_KEY, setting.CONSUMER_SECRET, setting.ACCESS_TOKEN, setting.ACCESS_SECRET)"
   ]
  },
  {
   "cell_type": "code",
   "execution_count": 4,
   "metadata": {},
   "outputs": [],
   "source": [
    "# from datetime import datetime\n",
    "import datetime\n",
    "d_today = datetime.date.today()- datetime.timedelta(days=20)\n",
    "\n",
    "\n",
    "base_since = '_00:00:00_JST' \n",
    "base_until = '_23:59:59_JST'\n",
    "since = d_today.strftime('%Y-%m-%d') + base_since\n",
    "until = d_today.strftime('%Y-%m-%d') + base_until "
   ]
  },
  {
   "cell_type": "code",
   "execution_count": 35,
   "metadata": {},
   "outputs": [
    {
     "name": "stdout",
     "output_type": "stream",
     "text": [
      "RT @Movie__Walker: ＼#金曜ロードSHOW！で『#るろうに剣心』の放送が終了📺／\n",
      "最新作『るろうに剣心 最終章 The Final』は公開中✨ \n",
      "\n",
      "もう一度読みたい！\n",
      "🔻 佐藤健らが最新作『るろうに剣心 最終章』を鑑賞！IMAXならではの魅力に感動 \n",
      "http…\n",
      "\n",
      "いい体してるわね\n",
      "\n",
      "#るろうに剣心 #金曜ロードショー \n",
      "#金ロー #金曜ロードSHOW\n",
      "\n",
      "RT @ExciteJapan: 【#金ロー】今夜の #金曜ロードSHOW は『#るろうに剣心』。エキレビ！に過去に掲載した2本の #るろ剣 レビューです💁‍♀️\n",
      "\n",
      "✍️『るろうに剣心』大ヒット7つの理由　これはゆとり世代論である\n",
      "https://t.co/yj5NmpBz7Y…\n",
      "\n",
      "RT @Master_Bird_: またOPカットされたので劇場版コナンくんと言ったらこの吹き替えの予告編おもしろすぎるので置いとくwww\n",
      "まともじゃねぇバーローやっぱりすこwww\n",
      "歩美ちゃんも元太くんの方もすこ\n",
      "\n",
      "#天国へのカウントダウン\n",
      "#金曜ロードSHOW\n",
      "\n",
      " https…\n",
      "\n",
      "RT @Master_Bird_: またOPカットされたので劇場版コナンくんと言ったらこの吹き替えの予告編おもしろすぎるので置いとくwww\n",
      "まともじゃねぇバーローやっぱりすこwww\n",
      "歩美ちゃんも元太くんの方もすこ\n",
      "\n",
      "#天国へのカウントダウン\n",
      "#金曜ロードSHOW\n",
      "\n",
      " https…\n",
      "\n",
      "RT @Master_Bird_: またOPカットされたので劇場版コナンくんと言ったらこの吹き替えの予告編おもしろすぎるので置いとくwww\n",
      "まともじゃねぇバーローやっぱりすこwww\n",
      "歩美ちゃんも元太くんの方もすこ\n",
      "\n",
      "#天国へのカウントダウン\n",
      "#金曜ロードSHOW\n",
      "\n",
      " https…\n",
      "\n",
      "RT @Master_Bird_: またOPカットされたので劇場版コナンくんと言ったらこの吹き替えの予告編おもしろすぎるので置いとくwww\n",
      "まともじゃねぇバーローやっぱりすこwww\n",
      "歩美ちゃんも元太くんの方もすこ\n",
      "\n",
      "#天国へのカウントダウン\n",
      "#金曜ロードSHOW\n",
      "\n",
      " https…\n",
      "\n",
      "RT @Yukidaruma_4488: 天国へのカウントダウンの後に、緋色の弾丸の名古屋弁のコナンくんと赤井さん流れたwww\n",
      "\n",
      "#名探偵コナン #conan #天国へのカウントダウン #金曜ロードショー #金曜ロードSHOW https://t.co/EK3nYBdvw0\n",
      "\n",
      "RT @Yukidaruma_4488: 天国へのカウントダウンの後に、緋色の弾丸の名古屋弁のコナンくんと赤井さん流れたwww\n",
      "\n",
      "#名探偵コナン #conan #天国へのカウントダウン #金曜ロードショー #金曜ロードSHOW https://t.co/EK3nYBdvw0\n",
      "\n",
      "RT @Master_Bird_: またOPカットされたので劇場版コナンくんと言ったらこの吹き替えの予告編おもしろすぎるので置いとくwww\n",
      "まともじゃねぇバーローやっぱりすこwww\n",
      "歩美ちゃんも元太くんの方もすこ\n",
      "\n",
      "#天国へのカウントダウン\n",
      "#金曜ロードSHOW\n",
      "\n",
      " https…\n",
      "\n",
      "RT @Master_Bird_: またOPカットされたので劇場版コナンくんと言ったらこの吹き替えの予告編おもしろすぎるので置いとくwww\n",
      "まともじゃねぇバーローやっぱりすこwww\n",
      "歩美ちゃんも元太くんの方もすこ\n",
      "\n",
      "#天国へのカウントダウン\n",
      "#金曜ロードSHOW\n",
      "\n",
      " https…\n",
      "\n",
      "RT @Master_Bird_: またOPカットされたので劇場版コナンくんと言ったらこの吹き替えの予告編おもしろすぎるので置いとくwww\n",
      "まともじゃねぇバーローやっぱりすこwww\n",
      "歩美ちゃんも元太くんの方もすこ\n",
      "\n",
      "#天国へのカウントダウン\n",
      "#金曜ロードSHOW\n",
      "\n",
      " https…\n",
      "\n",
      "ブルースウィリスも称賛しそうなほどダイハードな蘭姉ちゃんだなぁ\n",
      "\n",
      " #金曜ロードSHOW\n",
      "\n",
      "RT @Master_Bird_: またOPカットされたので劇場版コナンくんと言ったらこの吹き替えの予告編おもしろすぎるので置いとくwww\n",
      "まともじゃねぇバーローやっぱりすこwww\n",
      "歩美ちゃんも元太くんの方もすこ\n",
      "\n",
      "#天国へのカウントダウン\n",
      "#金曜ロードSHOW\n",
      "\n",
      " https…\n",
      "\n",
      "#天国へのカウントダウン\n",
      "#金曜ロードSHOW\n",
      "#名探偵コナン #conan\n",
      "毛利小五郎のレンタカー生活w https://t.co/wWdNmqRFnY\n",
      "\n",
      "RT @Master_Bird_: またOPカットされたので劇場版コナンくんと言ったらこの吹き替えの予告編おもしろすぎるので置いとくwww\n",
      "まともじゃねぇバーローやっぱりすこwww\n",
      "歩美ちゃんも元太くんの方もすこ\n",
      "\n",
      "#天国へのカウントダウン\n",
      "#金曜ロードSHOW\n",
      "\n",
      " https…\n",
      "\n",
      "RT @Master_Bird_: またOPカットされたので劇場版コナンくんと言ったらこの吹き替えの予告編おもしろすぎるので置いとくwww\n",
      "まともじゃねぇバーローやっぱりすこwww\n",
      "歩美ちゃんも元太くんの方もすこ\n",
      "\n",
      "#天国へのカウントダウン\n",
      "#金曜ロードSHOW\n",
      "\n",
      " https…\n",
      "\n",
      "RT @Master_Bird_: またOPカットされたので劇場版コナンくんと言ったらこの吹き替えの予告編おもしろすぎるので置いとくwww\n",
      "まともじゃねぇバーローやっぱりすこwww\n",
      "歩美ちゃんも元太くんの方もすこ\n",
      "\n",
      "#天国へのカウントダウン\n",
      "#金曜ロードSHOW\n",
      "\n",
      " https…\n",
      "\n",
      "RT @SHOU78374996: 時間あるからもう描いちゃった笑\n",
      "もちろん見ながらも描くよ！\n",
      "#金曜ロードSHOW \n",
      "#天国へのカウントダウン https://t.co/HbcKVuWFjj\n",
      "\n",
      "RT @Master_Bird_: またOPカットされたので劇場版コナンくんと言ったらこの吹き替えの予告編おもしろすぎるので置いとくwww\n",
      "まともじゃねぇバーローやっぱりすこwww\n",
      "歩美ちゃんも元太くんの方もすこ\n",
      "\n",
      "#天国へのカウントダウン\n",
      "#金曜ロードSHOW\n",
      "\n",
      " https…\n",
      "\n"
     ]
    }
   ],
   "source": [
    "keyword = \"#金曜ロードSHOW\"\n",
    "\n",
    "q = keyword\n",
    "#認証\n",
    "auth = tweepy.OAuthHandler( setting.CONSUMER_KEY, setting.CONSUMER_SECRET )\n",
    "auth.set_access_token( setting.ACCESS_TOKEN, setting.ACCESS_SECRET)\n",
    "\n",
    "api = tweepy.API(auth, wait_on_rate_limit = True)\n",
    "\n",
    "#検索キーワード設定 \n",
    "q = keyword\n",
    "\n",
    "#つぶやきを格納するリスト\n",
    "tweets_data =[]\n",
    "tweets_date =[]\n",
    "\n",
    "#カーソルを使用してデータ取得\n",
    "# for tweet in tweepy.Cursor(api.search, q=q, count=100,tweet_mode='extended').items():\n",
    "for tweet in tweepy.Cursor(api.search, q=q, tweet_mode='extended', since=since).items(4000):\n",
    "\n",
    "    #つぶやきテキスト(FULL)を取得\n",
    "    tweets_data.append(tweet.full_text + '\\n')\n",
    "    tweets_date.append(str(tweet.created_at) + '\\n')\n",
    "\n",
    "#出力ファイル名\n",
    "dfile = \"../data/hash_tag\"\n",
    "fname = \"init.txt\"\n",
    "if not os.path.exists( dfile):\n",
    "    os.mkdir(dfile)\n",
    "\n",
    "#ファイル出力\n",
    "with open(dfile+\"/\"+fname, \"w\",encoding=\"utf-8\") as f:\n",
    "    f.writelines(tweets_data)\n",
    "\n",
    "# print\n",
    "for i in range(len(tweets_data)):\n",
    "    if i % 100 == 0: \n",
    "        print(tweets_data[i])"
   ]
  },
  {
   "cell_type": "code",
   "execution_count": 36,
   "metadata": {},
   "outputs": [
    {
     "data": {
      "text/plain": [
       "1908"
      ]
     },
     "execution_count": 36,
     "metadata": {},
     "output_type": "execute_result"
    }
   ],
   "source": [
    "len(tweets_data)"
   ]
  },
  {
   "cell_type": "code",
   "execution_count": 34,
   "metadata": {},
   "outputs": [],
   "source": [
    "# from datetime import datetime\n",
    "import datetime\n",
    "d_today = datetime.date.today()- datetime.timedelta(days=20)\n",
    "\n",
    "\n",
    "base_since = '_00:00:00_JST' \n",
    "base_until = '_23:59:59_JST'\n",
    "since = d_today.strftime('%Y-%m-%d') + base_since\n",
    "until = d_today.strftime('%Y-%m-%d') + base_until "
   ]
  },
  {
   "cell_type": "code",
   "execution_count": null,
   "metadata": {},
   "outputs": [],
   "source": []
  },
  {
   "cell_type": "code",
   "execution_count": 37,
   "metadata": {},
   "outputs": [
    {
     "data": {
      "text/plain": [
       "'2021-04-23 12:17:27\\n'"
      ]
     },
     "execution_count": 37,
     "metadata": {},
     "output_type": "execute_result"
    }
   ],
   "source": [
    "tweets_date[-1]"
   ]
  },
  {
   "cell_type": "code",
   "execution_count": 43,
   "metadata": {},
   "outputs": [
    {
     "data": {
      "text/plain": [
       "'2021-05-01T09:32:53.174739'"
      ]
     },
     "execution_count": 43,
     "metadata": {},
     "output_type": "execute_result"
    }
   ],
   "source": [
    "datetime.datetime.now().isoformat()"
   ]
  },
  {
   "cell_type": "code",
   "execution_count": null,
   "metadata": {},
   "outputs": [],
   "source": []
  }
 ],
 "metadata": {
  "kernelspec": {
   "display_name": "Python 3",
   "language": "python",
   "name": "python3"
  },
  "language_info": {
   "codemirror_mode": {
    "name": "ipython",
    "version": 3
   },
   "file_extension": ".py",
   "mimetype": "text/x-python",
   "name": "python",
   "nbconvert_exporter": "python",
   "pygments_lexer": "ipython3",
   "version": "3.7.6"
  }
 },
 "nbformat": 4,
 "nbformat_minor": 4
}
