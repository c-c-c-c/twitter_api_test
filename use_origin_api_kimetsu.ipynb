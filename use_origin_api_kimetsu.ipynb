{
 "cells": [
  {
   "cell_type": "code",
   "execution_count": 1,
   "metadata": {
    "code_folding": []
   },
   "outputs": [],
   "source": [
    "# import module\n",
    "from datetime import datetime\n",
    "from datetime import timedelta\n",
    "import requests\n",
    "import os\n",
    "import json\n",
    "import Bearer\n",
    "import pytz\n",
    "import time\n",
    "\n",
    "import pandas as pd"
   ]
  },
  {
   "cell_type": "code",
   "execution_count": 2,
   "metadata": {
    "code_folding": [
     0
    ]
   },
   "outputs": [],
   "source": [
    "# 時刻を変換する関数\n",
    "\n",
    "def make_local_dt (dt):\n",
    "    utc_dt = dt - timedelta(hours=+9)\n",
    "    return (pytz.utc.localize(utc_dt).astimezone(pytz.timezone(\"Asia/Tokyo\")) )\n",
    "\n",
    "    \n",
    "def dt2localiso(dt):\n",
    "    # この段階で\n",
    "    if dt is None:\n",
    "        return ''\n",
    "    \n",
    "    return dt.isoformat()\n",
    "\n",
    "def iso_to_localdt(iso_str):\n",
    "    dt = None\n",
    "    try:\n",
    "        dt = datetime.strptime(iso_str, '%Y-%m-%dT%H:%M:%S.%fZ')\n",
    "        dt = pytz.utc.localize(dt).astimezone(pytz.timezone(\"Asia/Tokyo\"))\n",
    "    except ValueError:\n",
    "        try:\n",
    "            dt = datetime.strptime(iso_str, '%Y-%m-%dT%H:%M:%S.%f%z')\n",
    "            dt = dt.astimezone(pytz.timezone(\"Asia/Tokyo\"))\n",
    "        except ValueError:\n",
    "            pass\n",
    "    return dt"
   ]
  },
  {
   "cell_type": "code",
   "execution_count": 3,
   "metadata": {},
   "outputs": [],
   "source": [
    "start_time_dt = make_local_dt(datetime(2020, 10, 16, 0, 0, 0) )\n",
    "movie_name = str(start_time_dt.date())+\"_\"+\"鬼滅の刃\"\n",
    "\n",
    "# 終了日\n",
    "end_time_dt = start_time_dt + timedelta(days=88) # 2020年10月16日スタート\n",
    "\n",
    "start_time = dt2localiso(start_time_dt)\n",
    "end_time = dt2localiso(end_time_dt)"
   ]
  },
  {
   "cell_type": "code",
   "execution_count": 4,
   "metadata": {},
   "outputs": [],
   "source": [
    "# To set your environment variables in your terminal run the following line:\n",
    "# export 'BEARER_TOKEN'='<your_bearer_token>'\n",
    "bearer_token = Bearer.BEARER\n",
    "\n",
    "search_url = \"https://api.twitter.com/2/tweets/search/all\"\n",
    "\n",
    "def create_headers(bearer_token):\n",
    "    headers = {\"Authorization\": \"Bearer {}\".format(bearer_token)}\n",
    "    return headers\n",
    "\n",
    "def connect_to_endpoint(url, headers, params):\n",
    "    response = requests.request(\"GET\", search_url, headers=headers, params=params)\n",
    "    print(\"response_st\",response.status_code)\n",
    "    if response.status_code != 200:\n",
    "        raise Exception(\"response_st\",response.status_code, response.text)\n",
    "    return response.json()\n",
    "\n"
   ]
  },
  {
   "cell_type": "code",
   "execution_count": 5,
   "metadata": {
    "scrolled": false
   },
   "outputs": [],
   "source": [
    "%%capture output\n",
    "# Optional params: start_time,end_time,since_id,until_id,max_results,next_token,\n",
    "# expansions,tweet.fields,media.fields,poll.fields,place.fields,user.fields\n",
    "query_params = {'query': '#鬼滅の刃無限列車編',\n",
    "                'tweet.fields': \"created_at,author_id,public_metrics\", # スペースをいれない\n",
    "                'max_results' : 500,\n",
    "                \"start_time\":start_time ,\n",
    "               \"end_time\": end_time,\n",
    "               }\n",
    "\n",
    "json_response = None\n",
    "query_params.pop(\"until_id\", None)\n",
    "tweet_data = []\n",
    "\n",
    "for query_no in range(1,100000):\n",
    "    time.sleep(5) # 連続するとエラーになる\n",
    "    if json_response:\n",
    "        print(query_no)\n",
    "        query_params.pop(\"start_time\", None)\n",
    "        query_params.pop(\"end_time\", None)\n",
    "        query_params[\"until_id\"] = int(json_response[\"data\"][-1][\"id\"])\n",
    "        \n",
    "        print(query_params[\"until_id\"])\n",
    "    \n",
    "    \n",
    "    json_response = connect_to_endpoint(search_url, \n",
    "                                    create_headers(bearer_token), # headerを作る\n",
    "                                    query_params,\n",
    "                                    )\n",
    "    for i,tmp_content in enumerate(json_response[\"data\"]):\n",
    "        \n",
    "        # 置き換える日本時間に\n",
    "        tmp_content[\"created_at\"] = iso_to_localdt(tmp_content[\"created_at\"])\n",
    "        \n",
    "        try:\n",
    "            tweet_data.append([tmp_content[\"id\"], \n",
    "                               tmp_content[\"created_at\"], tmp_content[\"text\"].replace('\\n',''),\n",
    "                               tmp_content[\"public_metrics\"][\"like_count\"],\n",
    "                               tmp_content[\"public_metrics\"][\"retweet_count\"], \n",
    "                               tmp_content[\"author_id\"] ])\n",
    "        except Exception as e:\n",
    "            print(e)\n",
    "        if tmp_content[\"created_at\"] < start_time_dt :\n",
    "            # この３行を入れないと、最後の部分が取れない\n",
    "            df = pd.DataFrame(tweet_data, columns = [\"tweet_id\", \"date\",\"text\",\"like\",\"retweet\", \"author_id\"])\n",
    "            df = df.set_index(\"tweet_id\")\n",
    "            df.to_csv(\"./data/\"+ movie_name +\"_last.csv\")\n",
    "            break\n",
    "        \n",
    "    if query_no % 40 == 0: # 40クエリごとに書き出し(50万件)\n",
    "        df = pd.DataFrame(tweet_data, columns = [\"tweet_id\", \"date\",\"text\",\"like\",\"retweet\", \"author_id\"])\n",
    "        df = df.set_index(\"tweet_id\")\n",
    "        df.to_csv(\"./data/\"+ movie_name +\"_\"+str(query_no) +\".csv\")\n",
    "        tweet_data = [] # 空にする\n",
    "    \n",
    "    if tmp_content[\"created_at\"] < start_time_dt :\n",
    "        break\n",
    "        "
   ]
  },
  {
   "cell_type": "code",
   "execution_count": null,
   "metadata": {},
   "outputs": [],
   "source": [
    "    "
   ]
  },
  {
   "cell_type": "code",
   "execution_count": null,
   "metadata": {},
   "outputs": [],
   "source": []
  }
 ],
 "metadata": {
  "kernelspec": {
   "display_name": "Python 3",
   "language": "python",
   "name": "python3"
  },
  "language_info": {
   "codemirror_mode": {
    "name": "ipython",
    "version": 3
   },
   "file_extension": ".py",
   "mimetype": "text/x-python",
   "name": "python",
   "nbconvert_exporter": "python",
   "pygments_lexer": "ipython3",
   "version": "3.7.6"
  }
 },
 "nbformat": 4,
 "nbformat_minor": 4
}
