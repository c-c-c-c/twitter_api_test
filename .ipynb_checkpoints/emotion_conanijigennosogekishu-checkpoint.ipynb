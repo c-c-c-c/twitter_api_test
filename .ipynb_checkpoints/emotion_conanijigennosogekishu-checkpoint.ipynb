{
 "cells": [
  {
   "cell_type": "markdown",
   "metadata": {},
   "source": [
    "# ゲド戦記の金ローの口コミ"
   ]
  },
  {
   "cell_type": "code",
   "execution_count": 1,
   "metadata": {},
   "outputs": [],
   "source": [
    "import pandas as pd"
   ]
  },
  {
   "cell_type": "code",
   "execution_count": 2,
   "metadata": {},
   "outputs": [],
   "source": [
    "from mlask import MLAsk\n",
    "emotion_analyzer = MLAsk()\n"
   ]
  },
  {
   "cell_type": "code",
   "execution_count": 3,
   "metadata": {},
   "outputs": [],
   "source": [
    "df = pd.read_csv(\"./2021-04-09_ゲド戦記.csv\")"
   ]
  },
  {
   "cell_type": "code",
   "execution_count": 4,
   "metadata": {},
   "outputs": [
    {
     "data": {
      "text/plain": [
       "9     RT @wildheatomoko: 鎖に繋がれてるアレンの姿が好きな人は私だけじゃない筈。...\n",
       "17    RT @asppu_ao: ゲド戦記の空模様だいすきだなあ ꙳⋆#ゲド戦記 #金曜ロードSH...\n",
       "18    RT @sayjoy_enjoy: SNS講座をするハイタカ#ゲド戦記#金曜ロードSHOW#...\n",
       "21    #ゲド戦記 が絶賛大好評な世界線へようこそ…🕸 #金曜ロードshow  - Togetter...\n",
       "22    RT @sayjoy_enjoy: ジブリの汁物はどれも美味しそうに見えるから不思議#ゲド戦...\n",
       "23    RT @Yukidaruma_4488: クモ来た‼️クモさん、その容姿と声質から女性だど思...\n",
       "24    RT @Yukidaruma_4488: アレンの顔‥🥺 #ゲド戦記　#金曜ロードショー #...\n",
       "27    RT @sayjoy_enjoy: 岡田准一というイケメンアクション俳優#ゲド戦記#金曜ロー...\n",
       "29    RT @WLJzYj5QWE3ZDL0: となりのペドロの同時上映、ゲロ戦記 #ゲド戦記#金...\n",
       "30    RT @sayjoy_enjoy: 世界三大ファンタジー・ロード・オブ・ザ・リング(指輪物語...\n",
       "31    RT @seekertravel: 光の竜と影の竜？#金曜ロードSHOW #ゲド戦記 #ドラ...\n",
       "32    RT @Movie__Walker: ＼#金曜ロードSHOW！で『#ゲド戦記』の放送が終了📺...\n",
       "33    緋色の弾丸冒頭流れましたね‼️知ってる人は知ってるけど、赤井さんは、タバコ吸います‼️ #金...\n",
       "34            うわァ…良かった...この心何に例えよう... #ゲド戦記  #金曜ロードSHOW\n",
       "35    こんな映画でも2006年の興行収入ランキングで3位だったという事実#ゲド戦記#金曜ロードSH...\n",
       "36        緋色の弾丸観たい～😆でも映画館行くの怖い～💦💦#金曜ロードSHOW#名探偵コナン緋色の弾丸\n",
       "37    影の描写や細かい設定が詳しく書かれている原作の方が好きではあるけど……テルーには歌って欲しい...\n",
       "38    ＼#金曜ロードSHOW！で『#ゲド戦記』の放送が終了📺／宮崎吾朗監督の最新作『#アーヤと魔女...\n",
       "39    アレン、ゲド戦記お疲れ様でした〜🍵#ゲド戦記 #金曜ロードSHOW  #ジブリ https:...\n",
       "40                                   半純潔のプリンス＃金曜ロードSHOW\n",
       "Name: text, dtype: object"
      ]
     },
     "execution_count": 4,
     "metadata": {},
     "output_type": "execute_result"
    }
   ],
   "source": [
    "# tweetサンプル\n",
    "df[df [\"retweet\"] < 10].text[:20]"
   ]
  },
  {
   "cell_type": "code",
   "execution_count": 5,
   "metadata": {},
   "outputs": [
    {
     "name": "stdout",
     "output_type": "stream",
     "text": [
      "representative: ('suki', ['好き']) orientation: POSITIVE ,  activation: NEUTRAL\n",
      "representative: ('yorokobi', ['美味しい']) orientation: POSITIVE ,  activation: NEUTRAL\n",
      "representative: ('kowa', ['怖い']) orientation: NEGATIVE ,  activation: ACTIVE\n",
      "representative: ('suki', ['好き']) orientation: POSITIVE ,  activation: NEUTRAL\n",
      "representative: ('yorokobi', ['楽しみ']) orientation: POSITIVE ,  activation: NEUTRAL\n",
      "representative: ('iya', ['つまらない', '無駄']) orientation: NEGATIVE ,  activation: NEUTRAL\n",
      "representative: ('suki', ['好き']) orientation: POSITIVE ,  activation: NEUTRAL\n",
      "representative: ('aware', ['泣く']) orientation: mostly_NEGATIVE ,  activation: NEUTRAL\n",
      "representative: ('iya', ['辛辣']) orientation: NEGATIVE ,  activation: NEUTRAL\n",
      "representative: ('yasu', ['簡単']) orientation: POSITIVE ,  activation: PASSIVE\n",
      "representative: ('yasu', ['心配*CVS']) orientation: POSITIVE ,  activation: PASSIVE\n",
      "representative: ('kowa', ['怖い']) orientation: NEUTRAL ,  activation: ACTIVE\n",
      "representative: ('iya', ['いや']) orientation: NEGATIVE ,  activation: ACTIVE\n",
      "representative: ('kowa', ['怖い']) orientation: NEGATIVE ,  activation: ACTIVE\n",
      "representative: ('suki', ['好き']) orientation: POSITIVE ,  activation: NEUTRAL\n",
      "representative: ('suki', ['好き']) orientation: POSITIVE ,  activation: NEUTRAL\n",
      "representative: ('suki', ['可愛い']) orientation: POSITIVE ,  activation: NEUTRAL\n",
      "representative: ('kowa', ['不安']) orientation: NEGATIVE ,  activation: ACTIVE\n",
      "representative: ('suki', ['好き']) orientation: POSITIVE ,  activation: NEUTRAL\n",
      "representative: ('yasu', ['健全']) orientation: POSITIVE ,  activation: PASSIVE\n",
      "representative: ('iya', ['しつこい']) orientation: NEGATIVE ,  activation: NEUTRAL\n",
      "representative: ('suki', ['好き']) orientation: POSITIVE ,  activation: NEUTRAL\n",
      "representative: ('suki', ['好き']) orientation: POSITIVE ,  activation: NEUTRAL\n",
      "representative: ('suki', ['好き']) orientation: POSITIVE ,  activation: NEUTRAL\n",
      "representative: ('yorokobi', ['楽しみ']) orientation: POSITIVE ,  activation: NEUTRAL\n",
      "representative: ('iya', ['嫌い']) orientation: NEGATIVE ,  activation: NEUTRAL\n",
      "representative: ('suki', ['可愛い']) orientation: POSITIVE ,  activation: NEUTRAL\n",
      "representative: ('ikari', ['不本意']) orientation: mostly_NEGATIVE ,  activation: ACTIVE\n",
      "representative: ('kowa', ['気になる']) orientation: NEUTRAL ,  activation: ACTIVE\n",
      "representative: ('yorokobi', ['面白い']) orientation: POSITIVE ,  activation: NEUTRAL\n",
      "representative: ('suki', ['好き']) orientation: POSITIVE ,  activation: NEUTRAL\n",
      "representative: ('suki', ['大好き']) orientation: POSITIVE ,  activation: NEUTRAL\n",
      "representative: ('suki', ['好き']) orientation: POSITIVE ,  activation: NEUTRAL\n",
      "representative: ('iya', ['つまらない']) orientation: NEGATIVE ,  activation: NEUTRAL\n",
      "representative: ('yorokobi', ['美味しい']) orientation: POSITIVE ,  activation: NEUTRAL\n",
      "representative: ('suki', ['懐く']) orientation: POSITIVE ,  activation: NEUTRAL\n",
      "representative: ('takaburi', ['不安定']) orientation: NEUTRAL ,  activation: ACTIVE\n",
      "representative: ('suki', ['好き']) orientation: POSITIVE ,  activation: NEUTRAL\n",
      "representative: ('iya', ['嫌']) orientation: NEGATIVE ,  activation: NEUTRAL\n",
      "representative: ('suki', ['好く']) orientation: POSITIVE ,  activation: NEUTRAL\n",
      "representative: ('suki', ['好き']) orientation: POSITIVE ,  activation: NEUTRAL\n",
      "representative: ('suki', ['好き']) orientation: POSITIVE ,  activation: NEUTRAL\n",
      "representative: ('suki', ['好き']) orientation: POSITIVE ,  activation: NEUTRAL\n",
      "representative: ('ikari', ['激怒']) orientation: mostly_NEGATIVE ,  activation: ACTIVE\n",
      "representative: ('suki', ['好き']) orientation: POSITIVE ,  activation: NEUTRAL\n",
      "representative: ('yorokobi', ['楽しみ']) orientation: POSITIVE ,  activation: NEUTRAL\n",
      "representative: ('suki', ['大好き']) orientation: POSITIVE ,  activation: NEUTRAL\n",
      "representative: ('iya', ['大嫌い']) orientation: NEGATIVE ,  activation: NEUTRAL\n",
      "representative: ('aware', ['泣き', '泣く']) orientation: mostly_NEGATIVE ,  activation: NEUTRAL\n",
      "representative: ('suki', ['好き']) orientation: POSITIVE ,  activation: NEUTRAL\n",
      "representative: ('suki', ['好き']) orientation: POSITIVE ,  activation: NEUTRAL\n",
      "representative: ('suki', ['好き']) orientation: POSITIVE ,  activation: NEUTRAL\n",
      "representative: ('suki', ['可愛い']) orientation: POSITIVE ,  activation: NEUTRAL\n",
      "representative: ('ikari', ['立腹']) orientation: NEGATIVE ,  activation: ACTIVE\n"
     ]
    }
   ],
   "source": [
    "result_dict = {}\n",
    "no_emo = 0\n",
    "for tmp_text in df[df [\"retweet\"] < 10].text:\n",
    "#     print(tmp_text)\n",
    "    tmp_result = emotion_analyzer.analyze(tmp_text)\n",
    "    if \"orientation\" in tmp_result.keys():\n",
    "        print (\"representative:\",tmp_result[\"representative\"] , \"orientation:\" , tmp_result[\"orientation\"], \",  activation:\", tmp_result[\"activation\"])\n",
    "        if not tmp_result[\"representative\"][0] in result_dict.keys():\n",
    "            result_dict[tmp_result[\"representative\"][0]] = 1\n",
    "        else:\n",
    "            result_dict[tmp_result[\"representative\"][0]] += 1\n",
    "        \n",
    "    else:\n",
    "        no_emo+=1\n",
    "        "
   ]
  },
  {
   "cell_type": "code",
   "execution_count": 6,
   "metadata": {},
   "outputs": [
    {
     "data": {
      "text/plain": [
       "244"
      ]
     },
     "execution_count": 6,
     "metadata": {},
     "output_type": "execute_result"
    }
   ],
   "source": [
    "no_emo"
   ]
  },
  {
   "cell_type": "code",
   "execution_count": 7,
   "metadata": {},
   "outputs": [],
   "source": [
    "ordered_result = sorted(result_dict.items(), key=lambda x:x[1],  reverse=True)\n",
    "\n",
    "# for tmp_key in result.keys():\n",
    "#     val_dict=\n",
    "\n"
   ]
  },
  {
   "cell_type": "code",
   "execution_count": 8,
   "metadata": {},
   "outputs": [
    {
     "data": {
      "text/html": [
       "<font size='5' color='#FF7777'>結果<br>[('suki', 26), ('iya', 8), ('yorokobi', 6), ('kowa', 5), ('yasu', 3), ('ikari', 3), ('aware', 2), ('takaburi', 1)]</font>"
      ],
      "text/plain": [
       "<IPython.core.display.HTML object>"
      ]
     },
     "metadata": {},
     "output_type": "display_data"
    }
   ],
   "source": [
    "from IPython.display import display, HTML\n",
    "display(HTML(\"<font size='5' color='#FF7777'>結果<br>\" +str (ordered_result) + \"</font>\"))\n",
    "\n"
   ]
  },
  {
   "cell_type": "code",
   "execution_count": 9,
   "metadata": {},
   "outputs": [
    {
     "data": {
      "text/plain": [
       "\"[('suki', 26), ('iya', 8), ('yorokobi', 6), ('kowa', 5), ('yasu', 3), ('ikari', 3), ('aware', 2), ('takaburi', 1)]\""
      ]
     },
     "execution_count": 9,
     "metadata": {},
     "output_type": "execute_result"
    }
   ],
   "source": [
    "str (ordered_result)"
   ]
  },
  {
   "cell_type": "code",
   "execution_count": 10,
   "metadata": {},
   "outputs": [
    {
     "name": "stdout",
     "output_type": "stream",
     "text": [
      "感情_suki\t:26人が感じた\n",
      "感情_iya\t:8人が感じた\n",
      "感情_yorokobi\t:6人が感じた\n",
      "感情_kowa\t:5人が感じた\n",
      "感情_yasu\t:3人が感じた\n",
      "感情_ikari\t:3人が感じた\n",
      "感情_aware\t:2人が感じた\n",
      "感情_takaburi\t:1人が感じた\n"
     ]
    }
   ],
   "source": [
    "for x in ordered_result :\n",
    "    print(\"感情_\"+x[0]+\"\\t:\"+ str( x[1])+\"人が感じた\")"
   ]
  },
  {
   "cell_type": "code",
   "execution_count": null,
   "metadata": {},
   "outputs": [],
   "source": []
  }
 ],
 "metadata": {
  "kernelspec": {
   "display_name": "Python 3",
   "language": "python",
   "name": "python3"
  },
  "language_info": {
   "codemirror_mode": {
    "name": "ipython",
    "version": 3
   },
   "file_extension": ".py",
   "mimetype": "text/x-python",
   "name": "python",
   "nbconvert_exporter": "python",
   "pygments_lexer": "ipython3",
   "version": "3.7.6"
  }
 },
 "nbformat": 4,
 "nbformat_minor": 4
}
