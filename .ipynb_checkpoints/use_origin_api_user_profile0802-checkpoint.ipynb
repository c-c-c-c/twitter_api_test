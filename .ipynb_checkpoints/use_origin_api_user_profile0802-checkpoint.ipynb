{
 "cells": [
  {
   "cell_type": "code",
   "execution_count": 1,
   "metadata": {
    "code_folding": []
   },
   "outputs": [],
   "source": [
    "# import module\n",
    "from datetime import datetime\n",
    "from datetime import timedelta\n",
    "import requests\n",
    "import os\n",
    "import json\n",
    "import Bearer\n",
    "import pytz\n",
    "import time\n",
    "\n",
    "import pandas as pd"
   ]
  },
  {
   "cell_type": "code",
   "execution_count": 2,
   "metadata": {
    "code_folding": [
     0
    ]
   },
   "outputs": [],
   "source": [
    "# 時刻を変換する関数\n",
    "\n",
    "def make_local_dt (dt):\n",
    "    utc_dt = dt - timedelta(hours=+9)\n",
    "    return (pytz.utc.localize(utc_dt).astimezone(pytz.timezone(\"Asia/Tokyo\")) )\n",
    "\n",
    "    \n",
    "def dt2localiso(dt):\n",
    "    # この段階で\n",
    "    if dt is None:\n",
    "        return ''\n",
    "    \n",
    "    return dt.isoformat()\n",
    "\n",
    "def iso_to_localdt(iso_str):\n",
    "    dt = None\n",
    "    try:\n",
    "        dt = datetime.strptime(iso_str, '%Y-%m-%dT%H:%M:%S.%fZ')\n",
    "        dt = pytz.utc.localize(dt).astimezone(pytz.timezone(\"Asia/Tokyo\"))\n",
    "    except ValueError:\n",
    "        try:\n",
    "            dt = datetime.strptime(iso_str, '%Y-%m-%dT%H:%M:%S.%f%z')\n",
    "            dt = dt.astimezone(pytz.timezone(\"Asia/Tokyo\"))\n",
    "        except ValueError:\n",
    "            pass\n",
    "    return dt"
   ]
  },
  {
   "cell_type": "code",
   "execution_count": 3,
   "metadata": {},
   "outputs": [],
   "source": [
    "start_time_dt = make_local_dt(datetime(2020, 10, 16, 0, 0, 0) )\n",
    "movie_name = str(start_time_dt.date())+\"_\"+\"鬼滅の刃\"\n",
    "\n",
    "# 終了日\n",
    "end_time_dt = start_time_dt + timedelta(days=88) # 2020年10月16日スタート\n",
    "\n",
    "start_time = dt2localiso(start_time_dt)\n",
    "end_time = dt2localiso(end_time_dt)"
   ]
  },
  {
   "cell_type": "code",
   "execution_count": 4,
   "metadata": {},
   "outputs": [],
   "source": [
    "import requests\n",
    "import os\n",
    "import json\n",
    "import Bearer\n",
    "\n",
    "# To set your enviornment variables in your terminal run the following line:\n",
    "# export 'BEARER_TOKEN'='<your_bearer_token>'\n",
    "\n",
    "def auth():\n",
    "    return Bearer.BEARER\n",
    "#     return os.environ.get(\"BEARER_TOKEN\")\n",
    "\n",
    "\n",
    "def create_url(users):\n",
    "    # Specify the usernames that you want to lookup below\n",
    "    # You can enter up to 100 comma-separated values.\n",
    "#     usernames = \"usernames=TwitterDev,TwitterAPI\"\n",
    "    user_fields = \"user.fields=description,created_at\"\n",
    "    # User fields are adjustable, options include:\n",
    "    # created_at, description, entities, id, location, name,\n",
    "    # pinned_tweet_id, profile_image_url, protected,\n",
    "    # public_metrics, url, username, verified, and withheld\n",
    "    url = \"https://api.twitter.com/2/users?ids=\"+users+\"&\"+user_fields\n",
    "    return url\n",
    "\n",
    "def create_headers(bearer_token):\n",
    "    headers = {\"Authorization\": \"Bearer {}\".format(bearer_token)}\n",
    "    return headers\n",
    "\n",
    "def connect_to_endpoint(url, headers):\n",
    "    response = requests.request(\"GET\", url, headers=headers)\n",
    "    print(response.status_code)\n",
    "    if response.status_code != 200:\n",
    "        raise Exception(\n",
    "            \"Request returned an error: {} {}\".format(\n",
    "                response.status_code, response.text\n",
    "            )\n",
    "        )\n",
    "    return response.json()\n"
   ]
  },
  {
   "cell_type": "code",
   "execution_count": 5,
   "metadata": {},
   "outputs": [
    {
     "name": "stdout",
     "output_type": "stream",
     "text": [
      "200\n",
      "{\n",
      "    \"data\": [\n",
      "        {\n",
      "            \"created_at\": \"2015-11-07T19:48:34.000Z\",\n",
      "            \"description\": \"\\u4e2d\\u9014\\u534a\\u7aef\\u306a\\u30f2\\u30bf\\u3002\\u57fa\\u672c\\u30ce\\u30de\\u30ab\\u30d7\\u63a8\\u3057\\u3001\\u305f\\u307e\\u306b\\u6c17\\u304c\\u5411\\u3044\\u305f\\u3068\\u304d\\u3060\\u3051\\u8150\\u3084\\u767e\\u5408\\u3082\\u3064\\u307e\\u307f\\u98df\\u3044\\u3057\\u3066\\u308b\\u3002\\n\\u300e\\u30d7\\u30ea\\u30c1\\u30e3\\u30f3\\u300f\\u300e\\u30a2\\u30a4\\u30ab\\u30c4!\\u300f\\u7b49\\u306e\\u5973\\u5150\\u5411\\u3051\\u30b2\\u30fc\\u30e0\\u7b50\\u4f53\\u3067\\u904a\\u3076\\u3053\\u3068\\u3082\\u3002\\u3000\\n\\u6700\\u8fd1\\u30cf\\u30de\\u3063\\u3066\\u308b\\u306e\\u306f\\u3001\\u300eKING OF PRISM\\u300f(\\u30d2\\u30ed\\u69d8\\u6700\\u63a8\\u3057\\u30fb\\u30b7\\u30f3\\u3061\\u3083\\u3093\\u63a8\\u3057)\\u3068\\u300e\\u30d3\\u30c3\\u30ab\\u30e1\\u5a18\\u300f(\\u65b0\\u5bbf\\u7d44&\\u540d\\u53e4\\u5c4b\\u7d44\\u63a8\\u3057)\\u3002\",\n",
      "            \"id\": \"4160473333\",\n",
      "            \"name\": \"\\u307e\\u308d\\u306b\\u3043\",\n",
      "            \"username\": \"maronny2rain\"\n",
      "        },\n",
      "        {\n",
      "            \"created_at\": \"2017-09-17T10:37:36.000Z\",\n",
      "            \"description\": \"https://t.co/k0JuKUt0LF\",\n",
      "            \"id\": \"909365712904380416\",\n",
      "            \"name\": \"km\\ud83c\\udf45\\u201c\\u611f\\u8b1d\\u796d\\u201d\",\n",
      "            \"username\": \"kmc_kirakira\"\n",
      "        }\n",
      "    ]\n",
      "}\n"
     ]
    }
   ],
   "source": [
    "user_ids_list = [4160473333, 909365712904380416]\n",
    "users_ids_txt = ','.join(map(str,user_ids_list))\n",
    "\n",
    "bearer_token = auth()\n",
    "url = create_url(users_ids_txt)\n",
    "headers = create_headers(bearer_token)\n",
    "json_response = connect_to_endpoint(url, headers)\n",
    "\n",
    "print(json.dumps(json_response, indent=4, sort_keys=True))"
   ]
  },
  {
   "cell_type": "code",
   "execution_count": 6,
   "metadata": {},
   "outputs": [],
   "source": [
    "df = pd.read_csv(\"./data/kimetsu_tweet_merged.csv\",header=None, names=[\"tweet_id\",\"date\",\"text\",\"like\",\"retweet\",\"author_id\"] )\n",
    "author_ids = list(set(df.author_id))\n",
    "\n",
    "\n",
    "import re\n",
    "author_ids = [i for i in author_ids if type(i) == str and  re.match(r'^[0-9]{1,19}$', i )]\n",
    "# for id_ in author_ids:\n",
    "#     if not re.match(r'^[0-9]{1,19}$', id_ ):\n",
    "#         print(id_)"
   ]
  },
  {
   "cell_type": "code",
   "execution_count": 7,
   "metadata": {},
   "outputs": [
    {
     "name": "stdout",
     "output_type": "stream",
     "text": [
      "100\n",
      "200\n",
      "200\n",
      "200\n",
      "300\n",
      "200\n"
     ]
    },
    {
     "ename": "KeyboardInterrupt",
     "evalue": "",
     "output_type": "error",
     "traceback": [
      "\u001b[0;31m---------------------------------------------------------------------------\u001b[0m",
      "\u001b[0;31mKeyboardInterrupt\u001b[0m                         Traceback (most recent call last)",
      "\u001b[0;32m<ipython-input-7-fb425492eb23>\u001b[0m in \u001b[0;36m<module>\u001b[0;34m\u001b[0m\n\u001b[1;32m     17\u001b[0m     \u001b[0mjson_response\u001b[0m \u001b[0;34m=\u001b[0m \u001b[0mget_user_data\u001b[0m\u001b[0;34m(\u001b[0m\u001b[0mtmp_author_ids\u001b[0m\u001b[0;34m)\u001b[0m\u001b[0;34m\u001b[0m\u001b[0;34m\u001b[0m\u001b[0m\n\u001b[1;32m     18\u001b[0m \u001b[0;34m\u001b[0m\u001b[0m\n\u001b[0;32m---> 19\u001b[0;31m     \u001b[0mtime\u001b[0m\u001b[0;34m.\u001b[0m\u001b[0msleep\u001b[0m\u001b[0;34m(\u001b[0m\u001b[0;36m10\u001b[0m\u001b[0;34m)\u001b[0m\u001b[0;34m\u001b[0m\u001b[0;34m\u001b[0m\u001b[0m\n\u001b[0m\u001b[1;32m     20\u001b[0m \u001b[0;34m\u001b[0m\u001b[0m\n\u001b[1;32m     21\u001b[0m     \u001b[0;32mfor\u001b[0m \u001b[0mj\u001b[0m\u001b[0;34m,\u001b[0m \u001b[0mtmp_user\u001b[0m \u001b[0;32min\u001b[0m \u001b[0menumerate\u001b[0m\u001b[0;34m(\u001b[0m \u001b[0mjson_response\u001b[0m\u001b[0;34m[\u001b[0m\u001b[0;34m\"data\"\u001b[0m\u001b[0;34m]\u001b[0m\u001b[0;34m)\u001b[0m\u001b[0;34m:\u001b[0m\u001b[0;34m\u001b[0m\u001b[0;34m\u001b[0m\u001b[0m\n",
      "\u001b[0;31mKeyboardInterrupt\u001b[0m: "
     ]
    }
   ],
   "source": [
    "dict_for_df = {}\n",
    "import time\n",
    "\n",
    "def get_user_data(user_id_list):\n",
    "    users_ids_txt = ','.join(map(str,user_id_list)) \n",
    "    bearer_token = auth()\n",
    "    url = create_url(users_ids_txt)\n",
    "    headers = create_headers(bearer_token)\n",
    "    json_response = connect_to_endpoint(url, headers)\n",
    "    return (json_response)\n",
    "\n",
    "for i, batch_idx in enumerate(range(100, len(author_ids), 100)):\n",
    "    print (batch_idx)\n",
    "    before_idx = batch_idx-100\n",
    "    tmp_author_ids = author_ids[before_idx: batch_idx]\n",
    "\n",
    "    json_response = get_user_data(tmp_author_ids)\n",
    "\n",
    "    time.sleep(10)\n",
    "    \n",
    "    for j, tmp_user in enumerate( json_response[\"data\"]):\n",
    "        tmp_se = pd.Series( [ tmp_user[\"created_at\"], tmp_user[\"description\"], tmp_user[\"id\"], tmp_user[\"name\"], tmp_user[\"username\"] ], \n",
    "                           index=['created_at','description', 'id','name','username'] )\n",
    "\n",
    "        dict_for_df[j+before_idx]=tmp_se\n",
    "\n",
    "    \n"
   ]
  },
  {
   "cell_type": "code",
   "execution_count": null,
   "metadata": {},
   "outputs": [],
   "source": [
    "df_prof = pd.DataFrame.from_dict(dict_for_df, orient=\"index\")"
   ]
  },
  {
   "cell_type": "code",
   "execution_count": null,
   "metadata": {},
   "outputs": [],
   "source": [
    "df_prof"
   ]
  },
  {
   "cell_type": "code",
   "execution_count": null,
   "metadata": {},
   "outputs": [],
   "source": [
    "df_prof.to_excel(\"result0802.xlsx\")"
   ]
  },
  {
   "cell_type": "code",
   "execution_count": null,
   "metadata": {},
   "outputs": [],
   "source": [
    "# df"
   ]
  },
  {
   "cell_type": "code",
   "execution_count": null,
   "metadata": {},
   "outputs": [],
   "source": [
    "# ids = [2987256462,1073200913056071680,744881541457682432,1005772426393735169,1312722977755021312,1296292806588116992,331441514,1061934749566922752,1300279569987956737,1243804231334629377,2699769367,3229767464,32331287,1124842093057167360,1464470156,1251678204684677121,949327761696423936,4911443174,1311529669464735744,798349045932507136,2313524420,848871591232454658,721441813,185006673,123572236,1181113149073739778,864535750544470016,1326949625060761601,609122548,973580980677001216,1308592258145382400,995056578695909376,95769450,3724459818,2928485581,1280139281541894150,1267716136100978689,302325090,892008605175631875,762999381796593664,1204751156171292673,709848680,2574686574,2661576594,96958487,1166299695288729600,1626543992,777933586578051074,975446780350316544,1214359771739869184,110981657,1318143672802713601,2558496764,3313117790,819834679574417409,1289194048289267713,1241714137278881793,878250774274363393,1302205773997510656,2391320443,133572334,1107268822757629952,45458166,1314746393613881344,314909533,1964841312,1278631904061734912,1217142018511474689,2373640014,272836618,3269843726,825951069834391552,2823976416,3003624031,1240334144,1092047192951422983,2840976566,995286741517938688,2869021716,1004225998844379136,835347230999506944,856836785246269442,1153676831045771264,997120626337828865,3171080930,2281942154,1217793463883722752,953104264569606144,129250622,1123347944919392257,1677456487,1290559288134340610,1002078980474716160,1298897840,1270746886396239873,3302866260,707836924552024064,1148607253131325440,176772671,2325645582]"
   ]
  },
  {
   "cell_type": "code",
   "execution_count": null,
   "metadata": {},
   "outputs": [],
   "source": [
    "# get_user_data(ids)"
   ]
  }
 ],
 "metadata": {
  "kernelspec": {
   "display_name": "Python 3",
   "language": "python",
   "name": "python3"
  },
  "language_info": {
   "codemirror_mode": {
    "name": "ipython",
    "version": 3
   },
   "file_extension": ".py",
   "mimetype": "text/x-python",
   "name": "python",
   "nbconvert_exporter": "python",
   "pygments_lexer": "ipython3",
   "version": "3.7.6"
  }
 },
 "nbformat": 4,
 "nbformat_minor": 4
}
