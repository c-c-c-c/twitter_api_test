{
 "cells": [
  {
   "cell_type": "markdown",
   "metadata": {},
   "source": [
    "# 2021.04.30るろうに剣心の金ローの口コミ"
   ]
  },
  {
   "cell_type": "code",
   "execution_count": 13,
   "metadata": {},
   "outputs": [],
   "source": [
    "import pandas as pd"
   ]
  },
  {
   "cell_type": "code",
   "execution_count": 14,
   "metadata": {},
   "outputs": [],
   "source": [
    "from mlask import MLAsk\n",
    "emotion_analyzer = MLAsk()\n"
   ]
  },
  {
   "cell_type": "code",
   "execution_count": 15,
   "metadata": {},
   "outputs": [],
   "source": [
    "df = pd.read_csv(\"./2021-04-30_るろうに剣心.csv\")"
   ]
  },
  {
   "cell_type": "code",
   "execution_count": 16,
   "metadata": {},
   "outputs": [
    {
     "data": {
      "text/plain": [
       "0      RT @Yukidaruma_4488: 哀ちゃんの伝説の計算回シーン‼️重力加速度を9.8...\n",
       "10     名探偵コナン 天国へのカウントダウン ジンおっちょこちょいシーン https://t.co/...\n",
       "39     #ダンブルドア「自分が何者かは　能力で決まるのではない。　どんな選択をするかじゃ」#ファンタ...\n",
       "44     さすがに見落としてる点ないと思ってたらまだ新発見あるコナン映画すげえってなる。ジブリとかもね...\n",
       "45     RT @aquos_biz: コナンの名古屋弁バージョン草すぎっこんな名古屋弁は、河村市長し...\n",
       "52     コナンの名古屋弁バージョン草すぎっこんな名古屋弁は、河村市長しか使わんがね#名探偵コナン #...\n",
       "59     RT @mrchildren_saku: 名探偵コナン 天国へのカウントダウン 元太の名シー...\n",
       "60     ジンニキがトレンド入り‼️ジンとウォッカの遊園地シーンが有名ですよねwww #天国へのカウン...\n",
       "132    勇気ある行動をとるのを助けて守り為に平気な蘭姉ちゃんの勇気、カッコイイなハッピーですね😱💞💞...\n",
       "134    灰原さん可愛かった。灰原哀ちゃん、カッコよかった。哀さん、最高でした。最初から最後まで、哀ち...\n",
       "167    RT @Yukidaruma_4488: 蘭姉ちゃんが命がけでコナンくんを助けたように、コナ...\n",
       "182    RT @Yukidaruma_4488: 哀ちゃん『吉田さん(歩美ちゃん)を泣かせたら、私、...\n",
       "193    RT @Yukidaruma_4488: 10年後の歩美ちゃん、可愛い‼️ #conan #...\n",
       "214    RT @Yukidaruma_4488: 哀ちゃん『吉田さん(歩美ちゃん)を泣かせたら、私、...\n",
       "233    金曜ロードショーさん、天カウ放送してくれてありがとうございましたーーー！！！めっちゃ楽しかっ...\n",
       "240     #金曜ロードSHOW の「ノーカット版」はたいていそんなもの（ED省略）#天国へのカウントダウン\n",
       "249    RT @Yukidaruma_4488: トメさん出てる‼️アニメオリジナルの鑑識さん本作が...\n",
       "261    来週は、金曜ロードショーは、るろうに剣心1作目です。香川照之が出てきますwww #金曜ロード...\n",
       "308    2週連続で『異次元の狙撃手』と『天国へのカウントダウン』放送していただきありがとうございまし...\n",
       "311    やっぱりコナンの映画って何回でも見れる！「天国へのカウントダウン」なんて何回、いや何十回と見...\n",
       "Name: text, dtype: object"
      ]
     },
     "execution_count": 16,
     "metadata": {},
     "output_type": "execute_result"
    }
   ],
   "source": [
    "# tweetサンプル\n",
    "df[df [\"retweet\"] < 10].text[:20]"
   ]
  },
  {
   "cell_type": "code",
   "execution_count": 17,
   "metadata": {},
   "outputs": [
    {
     "name": "stdout",
     "output_type": "stream",
     "text": [
      "representative: ('yorokobi', ['ハッピー']) orientation: POSITIVE ,  activation: PASSIVE\n",
      "representative: ('suki', ['可愛い']) orientation: POSITIVE ,  activation: NEUTRAL\n",
      "representative: ('suki', ['可愛い']) orientation: POSITIVE ,  activation: NEUTRAL\n",
      "representative: ('yorokobi', ['飽きる*CVS', '幸せ', '楽しい']) orientation: POSITIVE ,  activation: NEUTRAL\n",
      "representative: ('yorokobi', ['嬉しい']) orientation: POSITIVE ,  activation: NEUTRAL\n",
      "representative: ('iya', ['いや']) orientation: NEGATIVE ,  activation: NEUTRAL\n",
      "representative: ('aware', ['無慈悲']) orientation: NEGATIVE ,  activation: NEUTRAL\n",
      "representative: ('ikari', ['カット']) orientation: NEGATIVE ,  activation: ACTIVE\n",
      "representative: ('ikari', ['怒る']) orientation: NEGATIVE ,  activation: ACTIVE\n",
      "representative: ('yorokobi', ['笑う']) orientation: POSITIVE ,  activation: NEUTRAL\n",
      "representative: ('takaburi', ['緊迫']) orientation: NEUTRAL ,  activation: ACTIVE\n",
      "representative: ('yorokobi', ['楽しみ']) orientation: POSITIVE ,  activation: NEUTRAL\n",
      "representative: ('takaburi', ['鼓動']) orientation: NEUTRAL ,  activation: ACTIVE\n",
      "representative: ('suki', ['かわいい']) orientation: POSITIVE ,  activation: NEUTRAL\n",
      "representative: ('iya', ['鳥肌']) orientation: NEGATIVE ,  activation: ACTIVE\n",
      "representative: ('suki', ['好く']) orientation: POSITIVE ,  activation: NEUTRAL\n",
      "representative: ('odoroki', ['思いのほか']) orientation: NEUTRAL ,  activation: ACTIVE\n",
      "representative: ('suki', ['好き']) orientation: POSITIVE ,  activation: NEUTRAL\n",
      "representative: ('suki', ['好き']) orientation: POSITIVE ,  activation: NEUTRAL\n",
      "representative: ('yorokobi', ['感謝']) orientation: POSITIVE ,  activation: NEUTRAL\n",
      "representative: ('suki', ['かわいい']) orientation: POSITIVE ,  activation: NEUTRAL\n",
      "representative: ('suki', ['かわいい']) orientation: POSITIVE ,  activation: NEUTRAL\n",
      "representative: ('suki', ['好き']) orientation: POSITIVE ,  activation: NEUTRAL\n",
      "representative: ('yorokobi', ['ナイス']) orientation: POSITIVE ,  activation: NEUTRAL\n",
      "representative: ('suki', ['好く', '憧れる']) orientation: mostly_POSITIVE ,  activation: NEUTRAL\n",
      "representative: ('suki', ['好き']) orientation: POSITIVE ,  activation: NEUTRAL\n",
      "representative: ('suki', ['可愛い']) orientation: POSITIVE ,  activation: NEUTRAL\n",
      "representative: ('suki', ['好き']) orientation: POSITIVE ,  activation: NEUTRAL\n",
      "representative: ('yorokobi', ['楽しむ']) orientation: POSITIVE ,  activation: NEUTRAL\n",
      "representative: ('suki', ['好き']) orientation: POSITIVE ,  activation: NEUTRAL\n",
      "representative: ('aware', ['取り残すれる']) orientation: NEUTRAL ,  activation: PASSIVE\n",
      "representative: ('suki', ['好き']) orientation: POSITIVE ,  activation: NEUTRAL\n",
      "representative: ('suki', ['尊い']) orientation: POSITIVE ,  activation: NEUTRAL\n",
      "representative: ('suki', ['好き']) orientation: POSITIVE ,  activation: NEUTRAL\n",
      "representative: ('suki', ['好き']) orientation: POSITIVE ,  activation: NEUTRAL\n",
      "representative: ('yorokobi', ['楽しむ']) orientation: POSITIVE ,  activation: NEUTRAL\n",
      "representative: ('ikari', ['ムカつく']) orientation: NEGATIVE ,  activation: ACTIVE\n",
      "representative: ('yorokobi', ['ナイス']) orientation: POSITIVE ,  activation: NEUTRAL\n",
      "representative: ('ikari', ['ムカつく']) orientation: NEGATIVE ,  activation: ACTIVE\n",
      "representative: ('aware', ['泣く']) orientation: mostly_NEGATIVE ,  activation: NEUTRAL\n",
      "representative: ('aware', ['我慢']) orientation: NEGATIVE ,  activation: PASSIVE\n",
      "representative: ('suki', ['好き']) orientation: POSITIVE ,  activation: NEUTRAL\n",
      "representative: ('suki', ['好き']) orientation: POSITIVE ,  activation: NEUTRAL\n",
      "representative: ('yorokobi', ['楽しむ']) orientation: POSITIVE ,  activation: NEUTRAL\n",
      "representative: ('ikari', ['カット']) orientation: NEGATIVE ,  activation: ACTIVE\n",
      "representative: ('suki', ['かわいい', '好き']) orientation: POSITIVE ,  activation: NEUTRAL\n",
      "representative: ('suki', ['好き']) orientation: POSITIVE ,  activation: NEUTRAL\n",
      "representative: ('yorokobi', ['楽しむ']) orientation: POSITIVE ,  activation: NEUTRAL\n",
      "representative: ('yorokobi', ['楽しむ']) orientation: POSITIVE ,  activation: NEUTRAL\n",
      "representative: ('suki', ['友情', '大好き']) orientation: POSITIVE ,  activation: NEUTRAL\n",
      "representative: ('yorokobi', ['ナイス']) orientation: POSITIVE ,  activation: NEUTRAL\n",
      "representative: ('suki', ['好き', '懐かしい']) orientation: POSITIVE ,  activation: NEUTRAL\n",
      "representative: ('suki', ['友情', '好く']) orientation: POSITIVE ,  activation: NEUTRAL\n",
      "representative: ('suki', ['好き']) orientation: POSITIVE ,  activation: NEUTRAL\n",
      "representative: ('suki', ['ぞっこん']) orientation: POSITIVE ,  activation: NEUTRAL\n",
      "representative: ('ikari', ['カット']) orientation: NEGATIVE ,  activation: ACTIVE\n",
      "representative: ('iya', ['大変']) orientation: NEGATIVE ,  activation: NEUTRAL\n",
      "representative: ('suki', ['可愛い']) orientation: POSITIVE ,  activation: NEUTRAL\n",
      "representative: ('suki', ['可愛い']) orientation: POSITIVE ,  activation: NEUTRAL\n",
      "representative: ('suki', ['かわいい']) orientation: POSITIVE ,  activation: NEUTRAL\n",
      "representative: ('aware', ['切ない']) orientation: NEGATIVE ,  activation: PASSIVE\n",
      "representative: ('iya', ['阿呆']) orientation: NEGATIVE ,  activation: NEUTRAL\n",
      "representative: ('ikari', ['カット']) orientation: NEGATIVE ,  activation: ACTIVE\n",
      "representative: ('suki', ['かわいい']) orientation: POSITIVE ,  activation: NEUTRAL\n",
      "representative: ('suki', ['可愛い', '大好き']) orientation: POSITIVE ,  activation: NEUTRAL\n",
      "representative: ('suki', ['大好き', '好き']) orientation: POSITIVE ,  activation: NEUTRAL\n",
      "representative: ('suki', ['大好き', '好き']) orientation: POSITIVE ,  activation: NEUTRAL\n"
     ]
    }
   ],
   "source": [
    "result_dict = {}\n",
    "no_emo = 0\n",
    "for tmp_text in df[df [\"retweet\"] < 10].text:\n",
    "#     print(tmp_text)\n",
    "    tmp_result = emotion_analyzer.analyze(tmp_text)\n",
    "    if \"orientation\" in tmp_result.keys():\n",
    "        print (\"representative:\",tmp_result[\"representative\"] , \"orientation:\" , tmp_result[\"orientation\"], \",  activation:\", tmp_result[\"activation\"])\n",
    "        if not tmp_result[\"representative\"][0] in result_dict.keys():\n",
    "            result_dict[tmp_result[\"representative\"][0]] = 1\n",
    "        else:\n",
    "            result_dict[tmp_result[\"representative\"][0]] += 1\n",
    "        \n",
    "    else:\n",
    "        no_emo+=1\n",
    "        "
   ]
  },
  {
   "cell_type": "code",
   "execution_count": 18,
   "metadata": {},
   "outputs": [
    {
     "data": {
      "text/plain": [
       "236"
      ]
     },
     "execution_count": 18,
     "metadata": {},
     "output_type": "execute_result"
    }
   ],
   "source": [
    "no_emo"
   ]
  },
  {
   "cell_type": "code",
   "execution_count": 19,
   "metadata": {},
   "outputs": [],
   "source": [
    "ordered_result = sorted(result_dict.items(), key=lambda x:x[1],  reverse=True)\n",
    "\n",
    "# for tmp_key in result.keys():\n",
    "#     val_dict=\n",
    "\n"
   ]
  },
  {
   "cell_type": "code",
   "execution_count": 20,
   "metadata": {},
   "outputs": [
    {
     "data": {
      "text/html": [
       "<font size='5' color='#FF7777'>結果<br>[('suki', 34), ('yorokobi', 14), ('ikari', 7), ('aware', 5), ('iya', 4), ('takaburi', 2), ('odoroki', 1)]</font>"
      ],
      "text/plain": [
       "<IPython.core.display.HTML object>"
      ]
     },
     "metadata": {},
     "output_type": "display_data"
    }
   ],
   "source": [
    "from IPython.display import display, HTML\n",
    "display(HTML(\"<font size='5' color='#FF7777'>結果<br>\" +str (ordered_result) + \"</font>\"))\n",
    "\n"
   ]
  },
  {
   "cell_type": "code",
   "execution_count": 21,
   "metadata": {},
   "outputs": [
    {
     "data": {
      "text/plain": [
       "\"[('suki', 34), ('yorokobi', 14), ('ikari', 7), ('aware', 5), ('iya', 4), ('takaburi', 2), ('odoroki', 1)]\""
      ]
     },
     "execution_count": 21,
     "metadata": {},
     "output_type": "execute_result"
    }
   ],
   "source": [
    "str (ordered_result)"
   ]
  },
  {
   "cell_type": "code",
   "execution_count": 22,
   "metadata": {},
   "outputs": [
    {
     "name": "stdout",
     "output_type": "stream",
     "text": [
      "感情_suki\t:34人が感じた\n",
      "感情_yorokobi\t:14人が感じた\n",
      "感情_ikari\t:7人が感じた\n",
      "感情_aware\t:5人が感じた\n",
      "感情_iya\t:4人が感じた\n",
      "感情_takaburi\t:2人が感じた\n",
      "感情_odoroki\t:1人が感じた\n"
     ]
    }
   ],
   "source": [
    "for x in ordered_result :\n",
    "    print(\"感情_\"+x[0]+\"\\t:\"+ str( x[1])+\"人が感じた\")"
   ]
  },
  {
   "cell_type": "code",
   "execution_count": null,
   "metadata": {},
   "outputs": [],
   "source": []
  }
 ],
 "metadata": {
  "kernelspec": {
   "display_name": "Python 3",
   "language": "python",
   "name": "python3"
  },
  "language_info": {
   "codemirror_mode": {
    "name": "ipython",
    "version": 3
   },
   "file_extension": ".py",
   "mimetype": "text/x-python",
   "name": "python",
   "nbconvert_exporter": "python",
   "pygments_lexer": "ipython3",
   "version": "3.7.6"
  }
 },
 "nbformat": 4,
 "nbformat_minor": 4
}
