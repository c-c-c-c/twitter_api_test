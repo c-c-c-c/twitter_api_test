{
 "cells": [
  {
   "cell_type": "code",
   "execution_count": 81,
   "metadata": {},
   "outputs": [],
   "source": [
    "import pandas as pd"
   ]
  },
  {
   "cell_type": "code",
   "execution_count": 82,
   "metadata": {},
   "outputs": [],
   "source": [
    "from mlask import MLAsk\n",
    "emotion_analyzer = MLAsk()\n"
   ]
  },
  {
   "cell_type": "code",
   "execution_count": 83,
   "metadata": {},
   "outputs": [],
   "source": [
    "df = pd.read_csv(\"./0326baio.csv\")"
   ]
  },
  {
   "cell_type": "code",
   "execution_count": 84,
   "metadata": {},
   "outputs": [
    {
     "data": {
      "text/plain": [
       "18     バイオハザード1初めて見た。金ロー、人気作の2アポカリプスばかり放送してたもんね。個人的にJ...\n",
       "28     RT @keizo_Onigawara: https://t.co/3qpefoPcBp #...\n",
       "36     「ルパン三世　カリオストロの城」地下の壁の文字の意味は？見どころ紹介！ #宮崎駿　#金曜ロー...\n",
       "40     ゾンビに残された唯一の欲が食欲じゃなくて性欲やったらラクーンシティ、今頃 いろいろとヤバいこ...\n",
       "42     RT @398Syun: もう19年前とは…金曜ロードSHOW！「バイオハザード」ご視聴あり...\n",
       "47     RT @ramu_darkness: バイオハザード同時視聴してるよーー久しぶりに見ても面白...\n",
       "55     #バイオハザード緊急集会 #金曜ロードショー #バイオハザード #金曜ロードSHOWオープニ...\n",
       "59     RT @398Syun: もう19年前とは…金曜ロードSHOW！「バイオハザード」ご視聴あり...\n",
       "64     RT @398Syun: もう19年前とは…金曜ロードSHOW！「バイオハザード」ご視聴あり...\n",
       "68     #バイオハザード緊急集会 #金曜ロードショー #バイオハザード #金曜ロードSHOWこの曲超...\n",
       "69     もう19年前とは…金曜ロードSHOW！「バイオハザード」ご視聴ありがとうございました。マーテ...\n",
       "70     バイオハザード面白かった！来週は「ハウルの動く城」#バイオハザード　#金曜ロードSHOW#ハ...\n",
       "78                       寝不足で落ちてた＃金曜ロードSHOW#バイオハザード #金ロー\n",
       "92     いやー面白かった！！初めてバイオハザード見たけどミラ美しすぎる…🤤💓続編見てみたい…レインい...\n",
       "98     マットとは暫くのお別れだ😭一作目観るとこの後も観たくなっちゃうやんかあああ#金曜ロードSHO...\n",
       "100    来週ハウルとか神すぎるジブリってイケメンいっぱいいるよなわたしはトンボ君派(´∀｀*) #金...\n",
       "102             #バイオハザード 観てた。#金曜ロードSHOW #ミラ・ジョヴォヴィッチ　好き♥\n",
       "120    #金曜ロードSHOW #バイオハザード 久しぶりに観たけど面白かった！！サイコロステーキが…...\n",
       "123    久々のバイオハザード1だったけどミラ・ジョヴォヴィッチはやっぱり綺麗で格好良かったし面白かっ...\n",
       "126    #金曜ロードSHOW初めてバイオハザード観たんだけど続編を作るためとはいえめちゃんこバッドエ...\n",
       "Name: text, dtype: object"
      ]
     },
     "execution_count": 84,
     "metadata": {},
     "output_type": "execute_result"
    }
   ],
   "source": [
    "# tweetサンプル\n",
    "df[df [\"retweet\"] < 10].text[:20]"
   ]
  },
  {
   "cell_type": "code",
   "execution_count": 85,
   "metadata": {},
   "outputs": [
    {
     "name": "stdout",
     "output_type": "stream",
     "text": [
      "representative: ('iya', ['惜しい']) orientation: NEGATIVE ,  activation: NEUTRAL\n",
      "representative: ('suki', ['好き']) orientation: POSITIVE ,  activation: NEUTRAL\n",
      "representative: ('suki', ['懐かしい']) orientation: POSITIVE ,  activation: NEUTRAL\n",
      "representative: ('yorokobi', ['面白い']) orientation: POSITIVE ,  activation: NEUTRAL\n",
      "representative: ('kowa', ['怖い']) orientation: NEGATIVE ,  activation: ACTIVE\n",
      "representative: ('suki', ['懐かしい']) orientation: POSITIVE ,  activation: NEUTRAL\n",
      "representative: ('suki', ['懐かしい']) orientation: POSITIVE ,  activation: NEUTRAL\n",
      "representative: ('suki', ['好き']) orientation: POSITIVE ,  activation: NEUTRAL\n",
      "representative: ('suki', ['懐かしい']) orientation: POSITIVE ,  activation: NEUTRAL\n",
      "representative: ('yorokobi', ['面白い']) orientation: POSITIVE ,  activation: NEUTRAL\n",
      "representative: ('yorokobi', ['面白い']) orientation: POSITIVE ,  activation: NEUTRAL\n",
      "representative: ('suki', ['好き']) orientation: POSITIVE ,  activation: NEUTRAL\n",
      "representative: ('yorokobi', ['面白い']) orientation: POSITIVE ,  activation: NEUTRAL\n",
      "representative: ('kowa', ['気になる']) orientation: NEUTRAL ,  activation: ACTIVE\n",
      "representative: ('kowa', ['怖い']) orientation: NEGATIVE ,  activation: ACTIVE\n",
      "representative: ('yorokobi', ['面白い']) orientation: POSITIVE ,  activation: NEUTRAL\n",
      "representative: ('yorokobi', ['面白い']) orientation: POSITIVE ,  activation: NEUTRAL\n",
      "representative: ('kowa', ['不気味', '不気味さ']) orientation: NEGATIVE ,  activation: ACTIVE\n",
      "representative: ('aware', ['泣ける']) orientation: NEGATIVE ,  activation: PASSIVE\n",
      "representative: ('yasu', ['余裕']) orientation: POSITIVE ,  activation: PASSIVE\n",
      "representative: ('odoroki', ['衝撃']) orientation: NEUTRAL ,  activation: ACTIVE\n",
      "representative: ('iya', ['焼ける']) orientation: NEGATIVE ,  activation: NEUTRAL\n",
      "representative: ('suki', ['キスする']) orientation: POSITIVE ,  activation: NEUTRAL\n",
      "representative: ('yorokobi', ['面白い']) orientation: POSITIVE ,  activation: NEUTRAL\n",
      "representative: ('ikari', ['皮肉']) orientation: NEGATIVE ,  activation: ACTIVE\n",
      "representative: ('iya', ['意地悪']) orientation: NEGATIVE ,  activation: NEUTRAL\n",
      "representative: ('ikari', ['カット']) orientation: NEGATIVE ,  activation: ACTIVE\n",
      "representative: ('yorokobi', ['丁寧']) orientation: POSITIVE ,  activation: NEUTRAL\n",
      "representative: ('iya', ['最悪']) orientation: NEGATIVE ,  activation: NEUTRAL\n",
      "representative: ('iya', ['いや']) orientation: NEGATIVE ,  activation: NEUTRAL\n",
      "representative: ('yorokobi', ['幸せ']) orientation: POSITIVE ,  activation: NEUTRAL\n",
      "representative: ('yasu', ['簡単']) orientation: POSITIVE ,  activation: PASSIVE\n",
      "representative: ('odoroki', ['衝撃']) orientation: NEUTRAL ,  activation: ACTIVE\n",
      "representative: ('suki', ['懐かしい']) orientation: POSITIVE ,  activation: NEUTRAL\n",
      "representative: ('yorokobi', ['面白い']) orientation: POSITIVE ,  activation: NEUTRAL\n",
      "representative: ('odoroki', ['衝撃']) orientation: NEUTRAL ,  activation: ACTIVE\n",
      "representative: ('kowa', ['怖い']) orientation: NEGATIVE ,  activation: ACTIVE\n",
      "representative: ('odoroki', ['衝撃']) orientation: NEUTRAL ,  activation: ACTIVE\n",
      "representative: ('suki', ['好き']) orientation: POSITIVE ,  activation: NEUTRAL\n",
      "representative: ('kowa', ['怖い']) orientation: NEGATIVE ,  activation: ACTIVE\n",
      "representative: ('odoroki', ['衝撃']) orientation: NEUTRAL ,  activation: ACTIVE\n",
      "representative: ('kowa', ['怖い']) orientation: NEGATIVE ,  activation: ACTIVE\n",
      "representative: ('odoroki', ['衝撃']) orientation: NEUTRAL ,  activation: ACTIVE\n",
      "representative: ('ikari', ['カット']) orientation: NEGATIVE ,  activation: ACTIVE\n",
      "representative: ('ikari', ['カット']) orientation: NEGATIVE ,  activation: ACTIVE\n",
      "representative: ('yorokobi', ['面白い']) orientation: POSITIVE ,  activation: NEUTRAL\n",
      "representative: ('suki', ['好き']) orientation: POSITIVE ,  activation: NEUTRAL\n",
      "representative: ('kowa', ['怖い']) orientation: NEGATIVE ,  activation: ACTIVE\n",
      "representative: ('ikari', ['カット']) orientation: NEGATIVE ,  activation: ACTIVE\n",
      "representative: ('ikari', ['解ける*CVS']) orientation: mostly_NEGATIVE ,  activation: ACTIVE\n",
      "representative: ('ikari', ['カット']) orientation: NEGATIVE ,  activation: ACTIVE\n",
      "representative: ('suki', ['かわいい']) orientation: POSITIVE ,  activation: NEUTRAL\n",
      "representative: ('yorokobi', ['楽しい']) orientation: POSITIVE ,  activation: NEUTRAL\n",
      "representative: ('iya', ['嫌']) orientation: NEGATIVE ,  activation: NEUTRAL\n",
      "representative: ('ikari', ['カット']) orientation: NEGATIVE ,  activation: ACTIVE\n",
      "representative: ('suki', ['懐かしい']) orientation: POSITIVE ,  activation: NEUTRAL\n",
      "representative: ('suki', ['懐かしい']) orientation: POSITIVE ,  activation: NEUTRAL\n",
      "representative: ('suki', ['好き']) orientation: POSITIVE ,  activation: NEUTRAL\n",
      "representative: ('iya', ['残念']) orientation: NEGATIVE ,  activation: NEUTRAL\n",
      "representative: ('ikari', ['カット']) orientation: NEGATIVE ,  activation: ACTIVE\n",
      "representative: ('kowa', ['怯む']) orientation: NEGATIVE ,  activation: ACTIVE\n",
      "representative: ('takaburi', ['緊張', '緊張感']) orientation: NEUTRAL ,  activation: ACTIVE\n",
      "representative: ('kowa', ['怖い']) orientation: NEGATIVE ,  activation: ACTIVE\n",
      "representative: ('ikari', ['カット']) orientation: NEGATIVE ,  activation: ACTIVE\n",
      "representative: ('ikari', ['カット']) orientation: NEGATIVE ,  activation: ACTIVE\n",
      "representative: ('ikari', ['カット']) orientation: NEGATIVE ,  activation: ACTIVE\n",
      "representative: ('ikari', ['カット']) orientation: NEGATIVE ,  activation: ACTIVE\n",
      "representative: ('kowa', ['怖い']) orientation: NEGATIVE ,  activation: ACTIVE\n",
      "representative: ('ikari', ['カット']) orientation: NEGATIVE ,  activation: ACTIVE\n",
      "representative: ('ikari', ['カット']) orientation: NEGATIVE ,  activation: ACTIVE\n",
      "representative: ('yorokobi', ['面白い']) orientation: POSITIVE ,  activation: NEUTRAL\n",
      "representative: ('suki', ['大好き']) orientation: POSITIVE ,  activation: NEUTRAL\n",
      "representative: ('yorokobi', ['楽しむ']) orientation: POSITIVE ,  activation: NEUTRAL\n",
      "representative: ('iya', ['悪意']) orientation: NEGATIVE ,  activation: NEUTRAL\n",
      "representative: ('suki', ['大好き']) orientation: POSITIVE ,  activation: NEUTRAL\n",
      "representative: ('suki', ['かわいい', '好み']) orientation: POSITIVE ,  activation: NEUTRAL\n",
      "representative: ('odoroki', ['驚かす']) orientation: mostly_NEGATIVE ,  activation: ACTIVE\n",
      "representative: ('yorokobi', ['笑う']) orientation: POSITIVE ,  activation: NEUTRAL\n",
      "representative: ('odoroki', ['驚く']) orientation: NEUTRAL ,  activation: ACTIVE\n",
      "representative: ('yorokobi', ['笑う']) orientation: POSITIVE ,  activation: NEUTRAL\n",
      "representative: ('suki', ['懐かしい']) orientation: POSITIVE ,  activation: NEUTRAL\n",
      "representative: ('yorokobi', ['面白い']) orientation: POSITIVE ,  activation: NEUTRAL\n",
      "representative: ('yorokobi', ['面白い']) orientation: POSITIVE ,  activation: NEUTRAL\n",
      "representative: ('ikari', ['カット']) orientation: NEGATIVE ,  activation: ACTIVE\n",
      "representative: ('yorokobi', ['面白い']) orientation: POSITIVE ,  activation: NEUTRAL\n",
      "representative: ('yasu', ['安心']) orientation: POSITIVE ,  activation: PASSIVE\n",
      "representative: ('suki', ['かわいい']) orientation: POSITIVE ,  activation: NEUTRAL\n",
      "representative: ('ikari', ['カット']) orientation: NEGATIVE ,  activation: ACTIVE\n",
      "representative: ('kowa', ['怖い']) orientation: NEGATIVE ,  activation: ACTIVE\n",
      "representative: ('iya', ['いや']) orientation: NEGATIVE ,  activation: NEUTRAL\n",
      "representative: ('ikari', ['カット']) orientation: NEGATIVE ,  activation: ACTIVE\n",
      "representative: ('suki', ['大好き']) orientation: mostly_POSITIVE ,  activation: ACTIVE\n",
      "representative: ('ikari', ['カット']) orientation: NEGATIVE ,  activation: ACTIVE\n",
      "representative: ('ikari', ['カット']) orientation: NEGATIVE ,  activation: ACTIVE\n",
      "representative: ('iya', ['揶揄']) orientation: NEGATIVE ,  activation: NEUTRAL\n",
      "representative: ('yasu', ['安心']) orientation: POSITIVE ,  activation: PASSIVE\n",
      "representative: ('ikari', ['カット']) orientation: NEGATIVE ,  activation: ACTIVE\n",
      "representative: ('aware', ['涙']) orientation: NEGATIVE ,  activation: PASSIVE\n",
      "representative: ('iya', ['ノロマ']) orientation: NEGATIVE ,  activation: NEUTRAL\n",
      "representative: ('iya', ['嫌い']) orientation: NEGATIVE ,  activation: NEUTRAL\n",
      "representative: ('iya', ['嘘つき']) orientation: NEGATIVE ,  activation: NEUTRAL\n",
      "representative: ('yorokobi', ['楽しみ']) orientation: POSITIVE ,  activation: NEUTRAL\n",
      "representative: ('yorokobi', ['楽しみ']) orientation: POSITIVE ,  activation: NEUTRAL\n",
      "representative: ('ikari', ['カット']) orientation: NEGATIVE ,  activation: ACTIVE\n",
      "representative: ('iya', ['ため息']) orientation: NEGATIVE ,  activation: NEUTRAL\n",
      "representative: ('iya', ['嫌い']) orientation: NEGATIVE ,  activation: NEUTRAL\n",
      "representative: ('yorokobi', ['飽きる*CVS']) orientation: POSITIVE ,  activation: NEUTRAL\n"
     ]
    }
   ],
   "source": [
    "result_dict = {}\n",
    "no_emo = 0\n",
    "for tmp_text in df[df [\"retweet\"] < 10].text:\n",
    "#     print(tmp_text)\n",
    "    tmp_result = emotion_analyzer.analyze(tmp_text)\n",
    "    if \"orientation\" in tmp_result.keys():\n",
    "        print (\"representative:\",tmp_result[\"representative\"] , \"orientation:\" , tmp_result[\"orientation\"], \",  activation:\", tmp_result[\"activation\"])\n",
    "        if not tmp_result[\"representative\"][0] in result_dict.keys():\n",
    "            result_dict[tmp_result[\"representative\"][0]] = 1\n",
    "        else:\n",
    "            result_dict[tmp_result[\"representative\"][0]] += 1\n",
    "        \n",
    "    else:\n",
    "        no_emo+=1\n",
    "        "
   ]
  },
  {
   "cell_type": "code",
   "execution_count": 86,
   "metadata": {},
   "outputs": [
    {
     "data": {
      "text/plain": [
       "363"
      ]
     },
     "execution_count": 86,
     "metadata": {},
     "output_type": "execute_result"
    }
   ],
   "source": [
    "no_emo"
   ]
  },
  {
   "cell_type": "code",
   "execution_count": 87,
   "metadata": {},
   "outputs": [
    {
     "data": {
      "text/html": [
       "<font size='5' color='#FF7777'>結果<br>{'iya': 15, 'suki': 21, 'yorokobi': 22, 'kowa': 12, 'aware': 2, 'yasu': 4, 'odoroki': 8, 'ikari': 22, 'takaburi': 1}</font>"
      ],
      "text/plain": [
       "<IPython.core.display.HTML object>"
      ]
     },
     "metadata": {},
     "output_type": "display_data"
    }
   ],
   "source": [
    "from IPython.display import display, HTML\n",
    "display(HTML(\"<font size='5' color='#FF7777'>結果<br>\" +str (result_dict) + \"</font>\"))\n",
    "\n"
   ]
  },
  {
   "cell_type": "markdown",
   "metadata": {},
   "source": []
  },
  {
   "cell_type": "code",
   "execution_count": 88,
   "metadata": {},
   "outputs": [
    {
     "data": {
      "text/plain": [
       "\"{'iya': 15, 'suki': 21, 'yorokobi': 22, 'kowa': 12, 'aware': 2, 'yasu': 4, 'odoroki': 8, 'ikari': 22, 'takaburi': 1}\""
      ]
     },
     "execution_count": 88,
     "metadata": {},
     "output_type": "execute_result"
    }
   ],
   "source": [
    "str (result_dict)"
   ]
  }
 ],
 "metadata": {
  "kernelspec": {
   "display_name": "Python 3",
   "language": "python",
   "name": "python3"
  },
  "language_info": {
   "codemirror_mode": {
    "name": "ipython",
    "version": 3
   },
   "file_extension": ".py",
   "mimetype": "text/x-python",
   "name": "python",
   "nbconvert_exporter": "python",
   "pygments_lexer": "ipython3",
   "version": "3.7.6"
  }
 },
 "nbformat": 4,
 "nbformat_minor": 4
}
