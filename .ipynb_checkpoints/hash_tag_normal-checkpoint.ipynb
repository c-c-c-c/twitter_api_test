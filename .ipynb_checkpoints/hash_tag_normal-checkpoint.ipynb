{
 "cells": [
  {
   "cell_type": "code",
   "execution_count": 2,
   "metadata": {},
   "outputs": [],
   "source": [
    "#JSONとOAuth認証用のライブラリを使用\n",
    "import json\n",
    "from requests_oauthlib import OAuth1Session\n",
    "import setting\n",
    "import tweepy\n",
    "import os\n",
    "\n",
    "twitter = OAuth1Session(setting.CONSUMER_KEY, setting.CONSUMER_SECRET, setting.ACCESS_TOKEN, setting.ACCESS_SECRET)\n"
   ]
  },
  {
   "cell_type": "code",
   "execution_count": 3,
   "metadata": {},
   "outputs": [],
   "source": [
    "# !pip install tweepy"
   ]
  },
  {
   "cell_type": "code",
   "execution_count": null,
   "metadata": {},
   "outputs": [],
   "source": [
    "keyword = \"#バンキシャ\"\n",
    "q = keyword\n",
    "#認証\n",
    "auth = tweepy.OAuthHandler( setting.CONSUMER_KEY, setting.CONSUMER_SECRET )\n",
    "auth.set_access_token( setting.ACCESS_TOKEN, setting.ACCESS_SECRET)\n",
    "\n",
    "api = tweepy.API(auth, wait_on_rate_limit = True)\n",
    "\n",
    "#検索キーワード設定 \n",
    "q = keyword\n",
    "\n",
    "#つぶやきを格納するリスト\n",
    "tweets_data =[]\n",
    "\n",
    "#カーソルを使用してデータ取得\n",
    "for tweet in tweepy.Cursor(api.search, q=q, count=100,tweet_mode='extended').items():\n",
    "\n",
    "    #つぶやきテキスト(FULL)を取得\n",
    "    tweets_data.append(tweet.full_text + '\\n')\n",
    "\n",
    "#出力ファイル名\n",
    "dfile = \"../data/hash_tag\"\n",
    "fname = \"init.txt\"\n",
    "if not os.path.exists( dfile):\n",
    "    os.mkdir(dfile)\n",
    "\n",
    "#ファイル出力\n",
    "with open(dfile+\"/\"+fname, \"w\",encoding=\"utf-8\") as f:\n",
    "    f.writelines(tweets_data)\n",
    "\n",
    "# print\n",
    "for i in len(range(tweets_data)):\n",
    "    print(tweets_data[i])"
   ]
  },
  {
   "cell_type": "code",
   "execution_count": null,
   "metadata": {},
   "outputs": [],
   "source": []
  }
 ],
 "metadata": {
  "kernelspec": {
   "display_name": "Python 3",
   "language": "python",
   "name": "python3"
  },
  "language_info": {
   "codemirror_mode": {
    "name": "ipython",
    "version": 3
   },
   "file_extension": ".py",
   "mimetype": "text/x-python",
   "name": "python",
   "nbconvert_exporter": "python",
   "pygments_lexer": "ipython3",
   "version": "3.7.6"
  }
 },
 "nbformat": 4,
 "nbformat_minor": 4
}
