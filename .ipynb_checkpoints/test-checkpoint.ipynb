{
 "cells": [
  {
   "cell_type": "code",
   "execution_count": 2,
   "metadata": {},
   "outputs": [
    {
     "name": "stdout",
     "output_type": "stream",
     "text": [
      "RT @tomatoha831: 河野さん聞いて下さい。学振の研究専念義務緩和は有り難いですが、受け入れ研究者からの許可と書類提出が一々必要な時点でハードルの高さがあまり変わりません。受け入れ研究者も大学での立場や責任があるので易々と認可できず、どことも雇用関係のないはずの研究…\n",
      "Peter Gaston looks at issues with using key openCV calls on the GPU. https://t.co/GSJ8HLyKU4\n",
      "エヴァTVシリーズ18話、テレビの音声で「落とし穴にはまってもまた這い上がればいいのよ」「絶望の影には必ず希望が用意されているもの」って言ってる。ほんと全部言ってるよ…\n",
      "コードテストで速度測定済！PythonによるAtCoderスニペット集 - https://t.co/0XxdfCfwon\n",
      "猫が死んでなければ https://t.co/Siaz3PxLbf\n",
      "KNIMEで思い出しましたが、Creatorライセンスを持っていなかった頃、あるVfSGのプロジェクトのデータ加工をKNIMEで回したことを思い出しました。\n",
      "あとは統計分析、回帰、クラスタリングやランダムフォレスト、サンプリングなど大体ノーコードで出来ます。\n",
      "逆回転対応！笑 https://t.co/V4fohHKD4q\n",
      "人力発電機 https://t.co/nV37Oy3ZZC\n",
      "GitHub - TACJu/TransFG: This is the official PyTorch implementation of the paper \"TransFG: A Transformer Architectu… https://t.co/oGgQrZgazq\n",
      "TresureDataって日本人が作った会社なのか\n",
      "知らなかった\n",
      "\n",
      "日本人CTOがシリコンバレーで25歳で起業し、660億円で買収されるまでの道のり – TECHBLITZ https://t.co/QKmhNvXvgy\n",
      "GitHub - guxd/DialogBERT: Source Code for DialogBERT: Discourse-Aware Response Generation via Learning to Recover a… https://t.co/E7WXNvX1HQ\n",
      "2017年頃KNIME使っていましたが、若干UIが古めかしいこと以外は大変高機能で良いですよ。データサイエンス系講義で使われているところもあり、またコミュニティも充実しているみたいです。 https://t.co/xjI5WTVtLF\n",
      "RT @selfhack11: SNSの分かりやすい図解。\n",
      "全部使ってますが、ユーザ層が全く異なるのが面白い。自分は ↓ の感じで使い分けてます。\n",
      "\n",
      "●Facebook：プライベート＆軽めなビジネス\n",
      "●Twitter：　 広範なアウトプット用\n",
      "●LinkedIn：  ビジネス特…\n",
      "オンラインかつ無料で経営学を学べるサイトのまとめ｜明治学院大学経済学部岩尾俊兵ゼミ https://t.co/yqsjyiqTa1 #Pando\n",
      "RT @xxkenai: はじまりましたよ！\n",
      "LinkedIn の臣さん @phreaky からの年収アップアドバイスが聞けます！\n",
      "#キャリアの作り方 https://t.co/PUhvexamDK\n",
      "@NmaViv 今は300ですが100%には200ちょいで行った記憶があります\n",
      "RT @la_neige_haruki: 右が人口当たりの検査数、左が人口当たりのワクチン接種の推移。\n",
      "夏にオリンピック開催予定でG7の中でこんなに検査もせず、ワクチン接種が進んでないなんて、日本ってすごすぎ！\n",
      "\n",
      "このグラフ見て、日本でのオリンピックが安全にできると思う方、いら…\n",
      "「一太郎」を禁止、そして「花子」を採用し、文書を華やかに！\n",
      "#虚構新聞へネタ提供 \n",
      "https://t.co/68KX85l6w5 https://t.co/mbvEhVSwb2\n",
      "【志尊淳イベント不在で共演者が…】\n",
      "\n",
      "急性心筋炎のため休養中の #志尊淳 さんが出席予定だった「モンスターストライク」新CM発表会に、共演した俳優の #満島真之介 さんらが登場！！\n",
      "\n",
      "#染谷将太 #矢本悠馬… https://t.co/WIWiRU7Sdd\n",
      "志望者減りそうな環境だw（ハゲが悪いこととは言ってない） https://t.co/MaFDpXyuTl\n"
     ]
    }
   ],
   "source": [
    "#JSONとOAuth認証用のライブラリを使用\n",
    "import json\n",
    "from requests_oauthlib import OAuth1Session\n",
    "import setting\n",
    "\n",
    "twitter = OAuth1Session(setting.CONSUMER_KEY, setting.CONSUMER_SECRET, setting.ACCESS_TOKEN, setting.ACCESS_SECRET)\n",
    "\n",
    "params = {}\n",
    "req = twitter.get(\"https://api.twitter.com/1.1/statuses/home_timeline.json\", params = params)\n",
    "\n",
    "timeline = json.loads(req.text)\n",
    "\n",
    "for tweet in timeline:\n",
    "  print (tweet[\"text\"])\n"
   ]
  },
  {
   "cell_type": "code",
   "execution_count": null,
   "metadata": {},
   "outputs": [],
   "source": []
  }
 ],
 "metadata": {
  "kernelspec": {
   "display_name": "Python 3",
   "language": "python",
   "name": "python3"
  },
  "language_info": {
   "codemirror_mode": {
    "name": "ipython",
    "version": 3
   },
   "file_extension": ".py",
   "mimetype": "text/x-python",
   "name": "python",
   "nbconvert_exporter": "python",
   "pygments_lexer": "ipython3",
   "version": "3.7.6"
  }
 },
 "nbformat": 4,
 "nbformat_minor": 4
}
