{
 "cells": [
  {
   "cell_type": "code",
   "execution_count": 1,
   "metadata": {
    "code_folding": []
   },
   "outputs": [],
   "source": [
    "# import module\n",
    "from datetime import datetime\n",
    "from datetime import timedelta\n",
    "import requests\n",
    "import os\n",
    "import json\n",
    "import Bearer\n",
    "import pytz\n",
    "import time\n",
    "\n",
    "import pandas as pd"
   ]
  },
  {
   "cell_type": "code",
   "execution_count": 2,
   "metadata": {
    "code_folding": [
     0
    ]
   },
   "outputs": [],
   "source": [
    "# 時刻を変換する関数\n",
    "\n",
    "def make_local_dt (dt):\n",
    "    utc_dt = dt - timedelta(hours=+9)\n",
    "    return (pytz.utc.localize(utc_dt).astimezone(pytz.timezone(\"Asia/Tokyo\")) )\n",
    "\n",
    "    \n",
    "def dt2localiso(dt):\n",
    "    # この段階で\n",
    "    if dt is None:\n",
    "        return ''\n",
    "    \n",
    "    return dt.isoformat()\n",
    "\n",
    "def iso_to_localdt(iso_str):\n",
    "    dt = None\n",
    "    try:\n",
    "        dt = datetime.strptime(iso_str, '%Y-%m-%dT%H:%M:%S.%fZ')\n",
    "        dt = pytz.utc.localize(dt).astimezone(pytz.timezone(\"Asia/Tokyo\"))\n",
    "    except ValueError:\n",
    "        try:\n",
    "            dt = datetime.strptime(iso_str, '%Y-%m-%dT%H:%M:%S.%f%z')\n",
    "            dt = dt.astimezone(pytz.timezone(\"Asia/Tokyo\"))\n",
    "        except ValueError:\n",
    "            pass\n",
    "    return dt"
   ]
  },
  {
   "cell_type": "code",
   "execution_count": 3,
   "metadata": {},
   "outputs": [],
   "source": [
    "start_time_dt = make_local_dt(datetime(2020, 10, 16, 0, 0, 0) )\n",
    "movie_name = str(start_time_dt.date())+\"_\"+\"鬼滅の刃\"\n",
    "\n",
    "# 終了日\n",
    "end_time_dt = start_time_dt + timedelta(days=88) # 2020年10月16日スタート\n",
    "\n",
    "start_time = dt2localiso(start_time_dt)\n",
    "end_time = dt2localiso(end_time_dt)"
   ]
  },
  {
   "cell_type": "code",
   "execution_count": 1,
   "metadata": {},
   "outputs": [
    {
     "name": "stdout",
     "output_type": "stream",
     "text": [
      "200\n",
      "{\n",
      "    \"data\": [\n",
      "        {\n",
      "            \"created_at\": \"2013-12-14T04:35:55.000Z\",\n",
      "            \"description\": \"The voice of the #TwitterDev team and your official source for updates, news, and events, related to the #TwitterAPI.\",\n",
      "            \"id\": \"2244994945\",\n",
      "            \"name\": \"Twitter Dev\",\n",
      "            \"username\": \"TwitterDev\"\n",
      "        },\n",
      "        {\n",
      "            \"created_at\": \"2007-05-23T06:01:13.000Z\",\n",
      "            \"description\": \"Tweets about changes and service issues. Follow @TwitterDev\\u00a0for more.\",\n",
      "            \"id\": \"6253282\",\n",
      "            \"name\": \"Twitter API\",\n",
      "            \"username\": \"TwitterAPI\"\n",
      "        }\n",
      "    ]\n",
      "}\n"
     ]
    }
   ],
   "source": [
    "import requests\n",
    "import os\n",
    "import json\n",
    "import Bearer\n",
    "\n",
    "# To set your enviornment variables in your terminal run the following line:\n",
    "# export 'BEARER_TOKEN'='<your_bearer_token>'\n",
    "\n",
    "\n",
    "def auth():\n",
    "    return Bearer.BEARER\n",
    "#     return os.environ.get(\"BEARER_TOKEN\")\n",
    "\n",
    "\n",
    "def create_url(users):\n",
    "    # Specify the usernames that you want to lookup below\n",
    "    # You can enter up to 100 comma-separated values.\n",
    "    usernames = \"usernames=TwitterDev,TwitterAPI\"\n",
    "    user_fields = \"user.fields=description,created_at\"\n",
    "    # User fields are adjustable, options include:\n",
    "    # created_at, description, entities, id, location, name,\n",
    "    # pinned_tweet_id, profile_image_url, protected,\n",
    "    # public_metrics, url, username, verified, and withheld\n",
    "    url = \"https://api.twitter.com/2/users?ids=\"+users\n",
    "\n",
    "def create_headers(bearer_token):\n",
    "    headers = {\"Authorization\": \"Bearer {}\".format(bearer_token)}\n",
    "    return headers\n",
    "\n",
    "\n",
    "def connect_to_endpoint(url, headers):\n",
    "    response = requests.request(\"GET\", url, headers=headers)\n",
    "    print(response.status_code)\n",
    "    if response.status_code != 200:\n",
    "        raise Exception(\n",
    "            \"Request returned an error: {} {}\".format(\n",
    "                response.status_code, response.text\n",
    "            )\n",
    "        )\n",
    "    return response.json()\n",
    "\n",
    "\n"
   ]
  },
  {
   "cell_type": "code",
   "execution_count": 6,
   "metadata": {},
   "outputs": [
    {
     "name": "stdout",
     "output_type": "stream",
     "text": [
      "4160473333,909365712904380416\n"
     ]
    }
   ],
   "source": []
  },
  {
   "cell_type": "code",
   "execution_count": 7,
   "metadata": {},
   "outputs": [
    {
     "ename": "TypeError",
     "evalue": "create_url() takes 0 positional arguments but 1 was given",
     "output_type": "error",
     "traceback": [
      "\u001b[0;31m---------------------------------------------------------------------------\u001b[0m",
      "\u001b[0;31mTypeError\u001b[0m                                 Traceback (most recent call last)",
      "\u001b[0;32m<ipython-input-7-c72bc29ff961>\u001b[0m in \u001b[0;36m<module>\u001b[0;34m\u001b[0m\n\u001b[1;32m      3\u001b[0m \u001b[0;34m\u001b[0m\u001b[0m\n\u001b[1;32m      4\u001b[0m \u001b[0mbearer_token\u001b[0m \u001b[0;34m=\u001b[0m \u001b[0mauth\u001b[0m\u001b[0;34m(\u001b[0m\u001b[0;34m)\u001b[0m\u001b[0;34m\u001b[0m\u001b[0;34m\u001b[0m\u001b[0m\n\u001b[0;32m----> 5\u001b[0;31m \u001b[0murl\u001b[0m \u001b[0;34m=\u001b[0m \u001b[0mcreate_url\u001b[0m\u001b[0;34m(\u001b[0m\u001b[0musers_ids_txt\u001b[0m\u001b[0;34m)\u001b[0m\u001b[0;34m\u001b[0m\u001b[0;34m\u001b[0m\u001b[0m\n\u001b[0m\u001b[1;32m      6\u001b[0m \u001b[0mheaders\u001b[0m \u001b[0;34m=\u001b[0m \u001b[0mcreate_headers\u001b[0m\u001b[0;34m(\u001b[0m\u001b[0mbearer_token\u001b[0m\u001b[0;34m)\u001b[0m\u001b[0;34m\u001b[0m\u001b[0;34m\u001b[0m\u001b[0m\n\u001b[1;32m      7\u001b[0m \u001b[0mjson_response\u001b[0m \u001b[0;34m=\u001b[0m \u001b[0mconnect_to_endpoint\u001b[0m\u001b[0;34m(\u001b[0m\u001b[0murl\u001b[0m\u001b[0;34m,\u001b[0m \u001b[0mheaders\u001b[0m\u001b[0;34m)\u001b[0m\u001b[0;34m\u001b[0m\u001b[0;34m\u001b[0m\u001b[0m\n",
      "\u001b[0;31mTypeError\u001b[0m: create_url() takes 0 positional arguments but 1 was given"
     ]
    }
   ],
   "source": [
    "\n",
    "user_ids_list = [4160473333, 909365712904380416]\n",
    "users_ids_txt = ','.join(map(str,users))\n",
    "\n",
    "bearer_token = auth()\n",
    "url = create_url(users_ids_txt)\n",
    "headers = create_headers(bearer_token)\n",
    "json_response = connect_to_endpoint(url, headers)\n",
    "\n",
    "print(json.dumps(json_response, indent=4, sort_keys=True))\n",
    "\n"
   ]
  },
  {
   "cell_type": "code",
   "execution_count": null,
   "metadata": {},
   "outputs": [],
   "source": []
  }
 ],
 "metadata": {
  "kernelspec": {
   "display_name": "Python 3",
   "language": "python",
   "name": "python3"
  },
  "language_info": {
   "codemirror_mode": {
    "name": "ipython",
    "version": 3
   },
   "file_extension": ".py",
   "mimetype": "text/x-python",
   "name": "python",
   "nbconvert_exporter": "python",
   "pygments_lexer": "ipython3",
   "version": "3.7.6"
  }
 },
 "nbformat": 4,
 "nbformat_minor": 4
}
