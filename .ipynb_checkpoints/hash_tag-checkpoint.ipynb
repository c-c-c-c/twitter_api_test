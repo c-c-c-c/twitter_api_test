{
 "cells": [
  {
   "cell_type": "code",
   "execution_count": 7,
   "metadata": {},
   "outputs": [],
   "source": [
    "#JSONとOAuth認証用のライブラリを使用\n",
    "import json\n",
    "from requests_oauthlib import OAuth1Session\n",
    "import setting\n",
    "import tweepy\n",
    "import os\n",
    "\n",
    "twitter = OAuth1Session(setting.CONSUMER_KEY, setting.CONSUMER_SECRET, setting.ACCESS_TOKEN, setting.ACCESS_SECRET)\n"
   ]
  },
  {
   "cell_type": "code",
   "execution_count": 8,
   "metadata": {},
   "outputs": [],
   "source": [
    "# !pip install tweepy"
   ]
  },
  {
   "cell_type": "code",
   "execution_count": 9,
   "metadata": {},
   "outputs": [
    {
     "ename": "FileNotFoundError",
     "evalue": "[Errno 2] No such file or directory: '../data/tweet/#バンキシャ'",
     "output_type": "error",
     "traceback": [
      "\u001b[0;31m---------------------------------------------------------------------------\u001b[0m",
      "\u001b[0;31mFileNotFoundError\u001b[0m                         Traceback (most recent call last)",
      "\u001b[0;32m<ipython-input-9-f287c2658654>\u001b[0m in \u001b[0;36m<module>\u001b[0;34m\u001b[0m\n\u001b[1;32m     25\u001b[0m     \u001b[0mquery_dir\u001b[0m \u001b[0;34m=\u001b[0m \u001b[0;34m\"%s/%s\"\u001b[0m \u001b[0;34m%\u001b[0m \u001b[0;34m(\u001b[0m\u001b[0msavepath\u001b[0m\u001b[0;34m,\u001b[0m \u001b[0mquery\u001b[0m\u001b[0;34m)\u001b[0m\u001b[0;34m\u001b[0m\u001b[0;34m\u001b[0m\u001b[0m\n\u001b[1;32m     26\u001b[0m     \u001b[0;32mif\u001b[0m \u001b[0;32mnot\u001b[0m \u001b[0mos\u001b[0m\u001b[0;34m.\u001b[0m\u001b[0mpath\u001b[0m\u001b[0;34m.\u001b[0m\u001b[0mexists\u001b[0m\u001b[0;34m(\u001b[0m \u001b[0mquery_dir\u001b[0m \u001b[0;34m)\u001b[0m\u001b[0;34m:\u001b[0m\u001b[0;34m\u001b[0m\u001b[0;34m\u001b[0m\u001b[0m\n\u001b[0;32m---> 27\u001b[0;31m         \u001b[0mos\u001b[0m\u001b[0;34m.\u001b[0m\u001b[0mmkdir\u001b[0m\u001b[0;34m(\u001b[0m\u001b[0mquery_dir\u001b[0m\u001b[0;34m)\u001b[0m\u001b[0;34m\u001b[0m\u001b[0;34m\u001b[0m\u001b[0m\n\u001b[0m\u001b[1;32m     28\u001b[0m \u001b[0;34m\u001b[0m\u001b[0m\n\u001b[1;32m     29\u001b[0m     \u001b[0mstream_num\u001b[0m \u001b[0;34m=\u001b[0m \u001b[0;36m0\u001b[0m\u001b[0;34m\u001b[0m\u001b[0;34m\u001b[0m\u001b[0m\n",
      "\u001b[0;31mFileNotFoundError\u001b[0m: [Errno 2] No such file or directory: '../data/tweet/#バンキシャ'"
     ]
    }
   ],
   "source": [
    "class StdOutListener(tweepy.StreamListener):\n",
    "    def on_data(self, data):\n",
    "        global stream_num\n",
    "        global dir_idx\n",
    "\n",
    "        tweet = json.loads(data)\n",
    "        if not tweet['retweeted'] and 'RT @' not in tweet['text']: # retweetは取得しない\n",
    "            save_path = \"%s/%s.json\" % ( query_dir, tweet[\"id_str\"] )\n",
    "            f = open(save_path, \"w\")\n",
    "            json.dump(tweet, f)\n",
    "            f.close()\n",
    "            stream_num += 1\n",
    "            return True\n",
    "        return True\n",
    "\n",
    "    def on_error(self, status):\n",
    "        print( status )\n",
    "\n",
    "if __name__ == '__main__':\n",
    "    query = \"#バンキシャ\" # 取得したい特定のキーワードやハッシュタグ\n",
    "\n",
    "    savepath =  \"../data/tweet\"\n",
    "    query_dir = \"%s/%s\" % (savepath, \"hash_tag\")\n",
    "    if not os.path.exists( query_dir ):\n",
    "        os.mkdir(query_dir)\n",
    "\n",
    "    stream_num = 0\n",
    "\n",
    "    l = StdOutListener()\n",
    "\n",
    "    auth = tweepy.OAuthHandler( setting.CONSUMER_KEY,\n",
    "                                setting.CONSUMER_SECRET )\n",
    "    auth.set_access_token( setting.ACCESS_TOKEN,setting.ACCESS_SECRET)\n",
    "\n",
    "    def start_stream():\n",
    "        while True :\n",
    "            stream = tweepy.Stream(auth, l)\n",
    "            stream.filter(track = [query])\n",
    "\n",
    "    print( 'target query:', query )\n",
    "    start_stream()"
   ]
  },
  {
   "cell_type": "code",
   "execution_count": null,
   "metadata": {},
   "outputs": [],
   "source": []
  },
  {
   "cell_type": "code",
   "execution_count": null,
   "metadata": {},
   "outputs": [],
   "source": []
  }
 ],
 "metadata": {
  "kernelspec": {
   "display_name": "Python 3",
   "language": "python",
   "name": "python3"
  },
  "language_info": {
   "codemirror_mode": {
    "name": "ipython",
    "version": 3
   },
   "file_extension": ".py",
   "mimetype": "text/x-python",
   "name": "python",
   "nbconvert_exporter": "python",
   "pygments_lexer": "ipython3",
   "version": "3.7.6"
  }
 },
 "nbformat": 4,
 "nbformat_minor": 4
}
