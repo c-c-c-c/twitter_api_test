{
 "cells": [
  {
   "cell_type": "markdown",
   "metadata": {},
   "source": [
    "# の口コミ"
   ]
  },
  {
   "cell_type": "code",
   "execution_count": 2,
   "metadata": {},
   "outputs": [],
   "source": [
    "from mlask import MLAsk\n",
    "import pandas as pd\n",
    "emotion_analyzer = MLAsk()\n"
   ]
  },
  {
   "cell_type": "code",
   "execution_count": 15,
   "metadata": {},
   "outputs": [],
   "source": [
    "df = pd.read_csv(\"./data/kimetsu_tweet_merged_replaced.csv\", names=[\"tweet_id\",\"date\",\"text\",\"like\",\"retweet\",\"author_id\"] )\n",
    "\n",
    "df_hoge = pd.read_csv(\"./data/kimetsu_tweet_merged.csv\", names=[\"tweet_id\",\"date\",\"text\",\"like\",\"retweet\",\"author_id\"] )"
   ]
  },
  {
   "cell_type": "code",
   "execution_count": 16,
   "metadata": {},
   "outputs": [
    {
     "data": {
      "text/plain": [
       "1"
      ]
     },
     "execution_count": 16,
     "metadata": {},
     "output_type": "execute_result"
    }
   ],
   "source": [
    "len(df)"
   ]
  },
  {
   "cell_type": "code",
   "execution_count": 13,
   "metadata": {},
   "outputs": [
    {
     "data": {
      "text/plain": [
       "0    RT @3RjY6gU9Eerc6AB: お久しぶりです！！12時にあげるつもりですか少し…...\n",
       "Name: text, dtype: object"
      ]
     },
     "execution_count": 13,
     "metadata": {},
     "output_type": "execute_result"
    }
   ],
   "source": [
    "# tweetサンプル\n",
    "df[df [\"retweet\"] < 10].text[:20]"
   ]
  },
  {
   "cell_type": "code",
   "execution_count": 16,
   "metadata": {},
   "outputs": [
    {
     "name": "stdout",
     "output_type": "stream",
     "text": [
      "representative: ('suki', ['大好き']) orientation: POSITIVE ,  activation: NEUTRAL\n",
      "representative: ('yorokobi', ['面白い']) orientation: POSITIVE ,  activation: NEUTRAL\n",
      "representative: ('iya', ['困惑']) orientation: NEGATIVE ,  activation: NEUTRAL\n",
      "representative: ('suki', ['好き']) orientation: POSITIVE ,  activation: NEUTRAL\n",
      "representative: ('aware', ['土下座']) orientation: NEGATIVE ,  activation: PASSIVE\n",
      "representative: ('suki', ['好き']) orientation: POSITIVE ,  activation: NEUTRAL\n",
      "representative: ('ikari', ['カット']) orientation: NEGATIVE ,  activation: ACTIVE\n",
      "representative: ('suki', ['懐かしい']) orientation: POSITIVE ,  activation: NEUTRAL\n",
      "representative: ('suki', ['大好き']) orientation: POSITIVE ,  activation: NEUTRAL\n",
      "representative: ('iya', ['痛い']) orientation: NEGATIVE ,  activation: NEUTRAL\n",
      "representative: ('ikari', ['皮肉']) orientation: NEGATIVE ,  activation: ACTIVE\n"
     ]
    }
   ],
   "source": [
    "result_dict = {}\n",
    "no_emo = 0\n",
    "for tmp_text in df[df [\"retweet\"] < 10].text:\n",
    "#     print(tmp_text)\n",
    "    tmp_result = emotion_analyzer.analyze(tmp_text)\n",
    "    if \"orientation\" in tmp_result.keys():\n",
    "        print (\"representative:\",tmp_result[\"representative\"] , \"orientation:\" , tmp_result[\"orientation\"], \",  activation:\", tmp_result[\"activation\"])\n",
    "        if not tmp_result[\"representative\"][0] in result_dict.keys():\n",
    "            result_dict[tmp_result[\"representative\"][0]] = 1\n",
    "        else:\n",
    "            result_dict[tmp_result[\"representative\"][0]] += 1\n",
    "        \n",
    "    else:\n",
    "        no_emo+=1\n",
    "        "
   ]
  },
  {
   "cell_type": "code",
   "execution_count": 17,
   "metadata": {},
   "outputs": [
    {
     "data": {
      "text/plain": [
       "81"
      ]
     },
     "execution_count": 17,
     "metadata": {},
     "output_type": "execute_result"
    }
   ],
   "source": [
    "no_emo"
   ]
  },
  {
   "cell_type": "code",
   "execution_count": 18,
   "metadata": {},
   "outputs": [],
   "source": [
    "ordered_result = sorted(result_dict.items(), key=lambda x:x[1],  reverse=True)\n",
    "\n",
    "# for tmp_key in result.keys():\n",
    "#     val_dict=\n",
    "\n"
   ]
  },
  {
   "cell_type": "code",
   "execution_count": 19,
   "metadata": {},
   "outputs": [
    {
     "data": {
      "text/html": [
       "<font size='5' color='#FF7777'>結果<br>[('suki', 5), ('iya', 2), ('ikari', 2), ('yorokobi', 1), ('aware', 1)]</font>"
      ],
      "text/plain": [
       "<IPython.core.display.HTML object>"
      ]
     },
     "metadata": {},
     "output_type": "display_data"
    }
   ],
   "source": [
    "from IPython.display import display, HTML\n",
    "display(HTML(\"<font size='5' color='#FF7777'>結果<br>\" +str (ordered_result) + \"</font>\"))\n",
    "\n"
   ]
  },
  {
   "cell_type": "code",
   "execution_count": 20,
   "metadata": {},
   "outputs": [
    {
     "data": {
      "text/plain": [
       "\"[('suki', 5), ('iya', 2), ('ikari', 2), ('yorokobi', 1), ('aware', 1)]\""
      ]
     },
     "execution_count": 20,
     "metadata": {},
     "output_type": "execute_result"
    }
   ],
   "source": [
    "str (ordered_result)"
   ]
  },
  {
   "cell_type": "code",
   "execution_count": 21,
   "metadata": {},
   "outputs": [
    {
     "name": "stdout",
     "output_type": "stream",
     "text": [
      "感情_suki\t:5人が感じた\n",
      "感情_iya\t:2人が感じた\n",
      "感情_ikari\t:2人が感じた\n",
      "感情_yorokobi\t:1人が感じた\n",
      "感情_aware\t:1人が感じた\n"
     ]
    }
   ],
   "source": [
    "for x in ordered_result :\n",
    "    print(\"感情_\"+x[0]+\"\\t:\"+ str( x[1])+\"人が感じた\")"
   ]
  },
  {
   "cell_type": "code",
   "execution_count": 22,
   "metadata": {},
   "outputs": [],
   "source": [
    "# tableau用\n",
    "tableau_dict = {\n",
    "        \"iya\":0,\n",
    "    \"yorokobi\":0,\n",
    "    \"kowa\":0,\n",
    "    \"yasu\":0,\n",
    "    \"aware\":0,\n",
    "    \"suki\":0,\n",
    "    \"ikari\":0,\n",
    "    \"takaburi\":0,\n",
    "    \"haji\":0,\n",
    "    \"odoroki\":0,\n",
    "}\n",
    "\n",
    "for tmp in ordered_result :\n",
    "    tableau_dict[tmp[0]] = tmp[1]\n",
    "\n",
    "df_t = pd.DataFrame(tableau_dict,index=['num',]).T.reset_index().rename(columns={'index': 'emotion'})\n",
    "\n",
    "df_t[\"movie_name\"] = \"るろうに剣心\"\n",
    "df_t[\"movie_date\"] = \"2021-04-30\"\n",
    "df_t[\"all_tweet_num\"] = len(df)\n",
    "df_t[\"tweet_num_no_many_retweet\"] = len(df[df [\"retweet\"] < 10])\n",
    "\n",
    "df_t.to_csv(df_t[\"movie_name\"][0]+\".csv\", encoding=\"shift_jis\")"
   ]
  }
 ],
 "metadata": {
  "kernelspec": {
   "display_name": "Python 3",
   "language": "python",
   "name": "python3"
  },
  "language_info": {
   "codemirror_mode": {
    "name": "ipython",
    "version": 3
   },
   "file_extension": ".py",
   "mimetype": "text/x-python",
   "name": "python",
   "nbconvert_exporter": "python",
   "pygments_lexer": "ipython3",
   "version": "3.7.6"
  }
 },
 "nbformat": 4,
 "nbformat_minor": 4
}
