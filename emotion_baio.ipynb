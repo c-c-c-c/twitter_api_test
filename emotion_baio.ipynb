{
 "cells": [
  {
   "cell_type": "markdown",
   "metadata": {},
   "source": [
    "# バイオハザードの金ローの口コミ"
   ]
  },
  {
   "cell_type": "code",
   "execution_count": 104,
   "metadata": {},
   "outputs": [],
   "source": [
    "import pandas as pd"
   ]
  },
  {
   "cell_type": "code",
   "execution_count": 105,
   "metadata": {},
   "outputs": [],
   "source": [
    "from mlask import MLAsk\n",
    "emotion_analyzer = MLAsk()\n"
   ]
  },
  {
   "cell_type": "code",
   "execution_count": 106,
   "metadata": {},
   "outputs": [],
   "source": [
    "df = pd.read_csv(\"./0326baio.csv\")"
   ]
  },
  {
   "cell_type": "code",
   "execution_count": 107,
   "metadata": {},
   "outputs": [
    {
     "data": {
      "text/plain": [
       "18     バイオハザード1初めて見た。金ロー、人気作の2アポカリプスばかり放送してたもんね。個人的にJ...\n",
       "28     RT @keizo_Onigawara: https://t.co/3qpefoPcBp #...\n",
       "36     「ルパン三世　カリオストロの城」地下の壁の文字の意味は？見どころ紹介！ #宮崎駿　#金曜ロー...\n",
       "40     ゾンビに残された唯一の欲が食欲じゃなくて性欲やったらラクーンシティ、今頃 いろいろとヤバいこ...\n",
       "42     RT @398Syun: もう19年前とは…金曜ロードSHOW！「バイオハザード」ご視聴あり...\n",
       "47     RT @ramu_darkness: バイオハザード同時視聴してるよーー久しぶりに見ても面白...\n",
       "55     #バイオハザード緊急集会 #金曜ロードショー #バイオハザード #金曜ロードSHOWオープニ...\n",
       "59     RT @398Syun: もう19年前とは…金曜ロードSHOW！「バイオハザード」ご視聴あり...\n",
       "64     RT @398Syun: もう19年前とは…金曜ロードSHOW！「バイオハザード」ご視聴あり...\n",
       "68     #バイオハザード緊急集会 #金曜ロードショー #バイオハザード #金曜ロードSHOWこの曲超...\n",
       "69     もう19年前とは…金曜ロードSHOW！「バイオハザード」ご視聴ありがとうございました。マーテ...\n",
       "70     バイオハザード面白かった！来週は「ハウルの動く城」#バイオハザード　#金曜ロードSHOW#ハ...\n",
       "78                       寝不足で落ちてた＃金曜ロードSHOW#バイオハザード #金ロー\n",
       "92     いやー面白かった！！初めてバイオハザード見たけどミラ美しすぎる…🤤💓続編見てみたい…レインい...\n",
       "98     マットとは暫くのお別れだ😭一作目観るとこの後も観たくなっちゃうやんかあああ#金曜ロードSHO...\n",
       "100    来週ハウルとか神すぎるジブリってイケメンいっぱいいるよなわたしはトンボ君派(´∀｀*) #金...\n",
       "102             #バイオハザード 観てた。#金曜ロードSHOW #ミラ・ジョヴォヴィッチ　好き♥\n",
       "120    #金曜ロードSHOW #バイオハザード 久しぶりに観たけど面白かった！！サイコロステーキが…...\n",
       "123    久々のバイオハザード1だったけどミラ・ジョヴォヴィッチはやっぱり綺麗で格好良かったし面白かっ...\n",
       "126    #金曜ロードSHOW初めてバイオハザード観たんだけど続編を作るためとはいえめちゃんこバッドエ...\n",
       "Name: text, dtype: object"
      ]
     },
     "execution_count": 107,
     "metadata": {},
     "output_type": "execute_result"
    }
   ],
   "source": [
    "# tweetサンプル\n",
    "df[df [\"retweet\"] < 10].text[:20]"
   ]
  },
  {
   "cell_type": "code",
   "execution_count": 108,
   "metadata": {},
   "outputs": [
    {
     "name": "stdout",
     "output_type": "stream",
     "text": [
      "representative: ('iya', ['惜しい']) orientation: NEGATIVE ,  activation: NEUTRAL\n",
      "representative: ('suki', ['好き']) orientation: POSITIVE ,  activation: NEUTRAL\n",
      "representative: ('suki', ['懐かしい']) orientation: POSITIVE ,  activation: NEUTRAL\n",
      "representative: ('yorokobi', ['面白い']) orientation: POSITIVE ,  activation: NEUTRAL\n",
      "representative: ('kowa', ['怖い']) orientation: NEGATIVE ,  activation: ACTIVE\n",
      "representative: ('suki', ['懐かしい']) orientation: POSITIVE ,  activation: NEUTRAL\n",
      "representative: ('suki', ['懐かしい']) orientation: POSITIVE ,  activation: NEUTRAL\n",
      "representative: ('suki', ['好き']) orientation: POSITIVE ,  activation: NEUTRAL\n",
      "representative: ('suki', ['懐かしい']) orientation: POSITIVE ,  activation: NEUTRAL\n",
      "representative: ('yorokobi', ['面白い']) orientation: POSITIVE ,  activation: NEUTRAL\n",
      "representative: ('yorokobi', ['面白い']) orientation: POSITIVE ,  activation: NEUTRAL\n",
      "representative: ('suki', ['好き']) orientation: POSITIVE ,  activation: NEUTRAL\n",
      "representative: ('yorokobi', ['面白い']) orientation: POSITIVE ,  activation: NEUTRAL\n",
      "representative: ('kowa', ['気になる']) orientation: NEUTRAL ,  activation: ACTIVE\n",
      "representative: ('kowa', ['怖い']) orientation: NEGATIVE ,  activation: ACTIVE\n",
      "representative: ('yorokobi', ['面白い']) orientation: POSITIVE ,  activation: NEUTRAL\n",
      "representative: ('yorokobi', ['面白い']) orientation: POSITIVE ,  activation: NEUTRAL\n",
      "representative: ('kowa', ['不気味', '不気味さ']) orientation: NEGATIVE ,  activation: ACTIVE\n",
      "representative: ('aware', ['泣ける']) orientation: NEGATIVE ,  activation: PASSIVE\n",
      "representative: ('yasu', ['余裕']) orientation: POSITIVE ,  activation: PASSIVE\n",
      "representative: ('odoroki', ['衝撃']) orientation: NEUTRAL ,  activation: ACTIVE\n",
      "representative: ('iya', ['焼ける']) orientation: NEGATIVE ,  activation: NEUTRAL\n",
      "representative: ('suki', ['キスする']) orientation: POSITIVE ,  activation: NEUTRAL\n",
      "representative: ('yorokobi', ['面白い']) orientation: POSITIVE ,  activation: NEUTRAL\n",
      "representative: ('ikari', ['皮肉']) orientation: NEGATIVE ,  activation: ACTIVE\n",
      "representative: ('iya', ['意地悪']) orientation: NEGATIVE ,  activation: NEUTRAL\n",
      "representative: ('ikari', ['カット']) orientation: NEGATIVE ,  activation: ACTIVE\n",
      "representative: ('yorokobi', ['丁寧']) orientation: POSITIVE ,  activation: NEUTRAL\n",
      "representative: ('iya', ['最悪']) orientation: NEGATIVE ,  activation: NEUTRAL\n",
      "representative: ('iya', ['いや']) orientation: NEGATIVE ,  activation: NEUTRAL\n",
      "representative: ('yorokobi', ['幸せ']) orientation: POSITIVE ,  activation: NEUTRAL\n",
      "representative: ('yasu', ['簡単']) orientation: POSITIVE ,  activation: PASSIVE\n",
      "representative: ('odoroki', ['衝撃']) orientation: NEUTRAL ,  activation: ACTIVE\n",
      "representative: ('suki', ['懐かしい']) orientation: POSITIVE ,  activation: NEUTRAL\n",
      "representative: ('yorokobi', ['面白い']) orientation: POSITIVE ,  activation: NEUTRAL\n",
      "representative: ('odoroki', ['衝撃']) orientation: NEUTRAL ,  activation: ACTIVE\n",
      "representative: ('kowa', ['怖い']) orientation: NEGATIVE ,  activation: ACTIVE\n",
      "representative: ('odoroki', ['衝撃']) orientation: NEUTRAL ,  activation: ACTIVE\n",
      "representative: ('suki', ['好き']) orientation: POSITIVE ,  activation: NEUTRAL\n",
      "representative: ('kowa', ['怖い']) orientation: NEGATIVE ,  activation: ACTIVE\n",
      "representative: ('odoroki', ['衝撃']) orientation: NEUTRAL ,  activation: ACTIVE\n",
      "representative: ('kowa', ['怖い']) orientation: NEGATIVE ,  activation: ACTIVE\n",
      "representative: ('odoroki', ['衝撃']) orientation: NEUTRAL ,  activation: ACTIVE\n",
      "representative: ('ikari', ['カット']) orientation: NEGATIVE ,  activation: ACTIVE\n",
      "representative: ('ikari', ['カット']) orientation: NEGATIVE ,  activation: ACTIVE\n",
      "representative: ('yorokobi', ['面白い']) orientation: POSITIVE ,  activation: NEUTRAL\n",
      "representative: ('suki', ['好き']) orientation: POSITIVE ,  activation: NEUTRAL\n",
      "representative: ('kowa', ['怖い']) orientation: NEGATIVE ,  activation: ACTIVE\n",
      "representative: ('ikari', ['カット']) orientation: NEGATIVE ,  activation: ACTIVE\n",
      "representative: ('ikari', ['解ける*CVS']) orientation: mostly_NEGATIVE ,  activation: ACTIVE\n",
      "representative: ('ikari', ['カット']) orientation: NEGATIVE ,  activation: ACTIVE\n",
      "representative: ('suki', ['かわいい']) orientation: POSITIVE ,  activation: NEUTRAL\n",
      "representative: ('yorokobi', ['楽しい']) orientation: POSITIVE ,  activation: NEUTRAL\n",
      "representative: ('iya', ['嫌']) orientation: NEGATIVE ,  activation: NEUTRAL\n",
      "representative: ('ikari', ['カット']) orientation: NEGATIVE ,  activation: ACTIVE\n",
      "representative: ('suki', ['懐かしい']) orientation: POSITIVE ,  activation: NEUTRAL\n",
      "representative: ('suki', ['懐かしい']) orientation: POSITIVE ,  activation: NEUTRAL\n",
      "representative: ('suki', ['好き']) orientation: POSITIVE ,  activation: NEUTRAL\n",
      "representative: ('iya', ['残念']) orientation: NEGATIVE ,  activation: NEUTRAL\n",
      "representative: ('ikari', ['カット']) orientation: NEGATIVE ,  activation: ACTIVE\n",
      "representative: ('kowa', ['怯む']) orientation: NEGATIVE ,  activation: ACTIVE\n",
      "representative: ('takaburi', ['緊張', '緊張感']) orientation: NEUTRAL ,  activation: ACTIVE\n",
      "representative: ('kowa', ['怖い']) orientation: NEGATIVE ,  activation: ACTIVE\n",
      "representative: ('ikari', ['カット']) orientation: NEGATIVE ,  activation: ACTIVE\n",
      "representative: ('ikari', ['カット']) orientation: NEGATIVE ,  activation: ACTIVE\n",
      "representative: ('ikari', ['カット']) orientation: NEGATIVE ,  activation: ACTIVE\n",
      "representative: ('ikari', ['カット']) orientation: NEGATIVE ,  activation: ACTIVE\n",
      "representative: ('kowa', ['怖い']) orientation: NEGATIVE ,  activation: ACTIVE\n",
      "representative: ('ikari', ['カット']) orientation: NEGATIVE ,  activation: ACTIVE\n",
      "representative: ('ikari', ['カット']) orientation: NEGATIVE ,  activation: ACTIVE\n",
      "representative: ('yorokobi', ['面白い']) orientation: POSITIVE ,  activation: NEUTRAL\n",
      "representative: ('suki', ['大好き']) orientation: POSITIVE ,  activation: NEUTRAL\n",
      "representative: ('yorokobi', ['楽しむ']) orientation: POSITIVE ,  activation: NEUTRAL\n",
      "representative: ('iya', ['悪意']) orientation: NEGATIVE ,  activation: NEUTRAL\n",
      "representative: ('suki', ['大好き']) orientation: POSITIVE ,  activation: NEUTRAL\n",
      "representative: ('suki', ['かわいい', '好み']) orientation: POSITIVE ,  activation: NEUTRAL\n",
      "representative: ('odoroki', ['驚かす']) orientation: mostly_NEGATIVE ,  activation: ACTIVE\n",
      "representative: ('yorokobi', ['笑う']) orientation: POSITIVE ,  activation: NEUTRAL\n",
      "representative: ('odoroki', ['驚く']) orientation: NEUTRAL ,  activation: ACTIVE\n",
      "representative: ('yorokobi', ['笑う']) orientation: POSITIVE ,  activation: NEUTRAL\n",
      "representative: ('suki', ['懐かしい']) orientation: POSITIVE ,  activation: NEUTRAL\n",
      "representative: ('yorokobi', ['面白い']) orientation: POSITIVE ,  activation: NEUTRAL\n",
      "representative: ('yorokobi', ['面白い']) orientation: POSITIVE ,  activation: NEUTRAL\n",
      "representative: ('ikari', ['カット']) orientation: NEGATIVE ,  activation: ACTIVE\n",
      "representative: ('yorokobi', ['面白い']) orientation: POSITIVE ,  activation: NEUTRAL\n",
      "representative: ('yasu', ['安心']) orientation: POSITIVE ,  activation: PASSIVE\n",
      "representative: ('suki', ['かわいい']) orientation: POSITIVE ,  activation: NEUTRAL\n",
      "representative: ('ikari', ['カット']) orientation: NEGATIVE ,  activation: ACTIVE\n",
      "representative: ('kowa', ['怖い']) orientation: NEGATIVE ,  activation: ACTIVE\n",
      "representative: ('iya', ['いや']) orientation: NEGATIVE ,  activation: NEUTRAL\n",
      "representative: ('ikari', ['カット']) orientation: NEGATIVE ,  activation: ACTIVE\n",
      "representative: ('suki', ['大好き']) orientation: mostly_POSITIVE ,  activation: ACTIVE\n",
      "representative: ('ikari', ['カット']) orientation: NEGATIVE ,  activation: ACTIVE\n",
      "representative: ('ikari', ['カット']) orientation: NEGATIVE ,  activation: ACTIVE\n",
      "representative: ('iya', ['揶揄']) orientation: NEGATIVE ,  activation: NEUTRAL\n",
      "representative: ('yasu', ['安心']) orientation: POSITIVE ,  activation: PASSIVE\n",
      "representative: ('ikari', ['カット']) orientation: NEGATIVE ,  activation: ACTIVE\n",
      "representative: ('aware', ['涙']) orientation: NEGATIVE ,  activation: PASSIVE\n",
      "representative: ('iya', ['ノロマ']) orientation: NEGATIVE ,  activation: NEUTRAL\n",
      "representative: ('iya', ['嫌い']) orientation: NEGATIVE ,  activation: NEUTRAL\n",
      "representative: ('iya', ['嘘つき']) orientation: NEGATIVE ,  activation: NEUTRAL\n",
      "representative: ('yorokobi', ['楽しみ']) orientation: POSITIVE ,  activation: NEUTRAL\n",
      "representative: ('yorokobi', ['楽しみ']) orientation: POSITIVE ,  activation: NEUTRAL\n",
      "representative: ('ikari', ['カット']) orientation: NEGATIVE ,  activation: ACTIVE\n"
     ]
    },
    {
     "name": "stdout",
     "output_type": "stream",
     "text": [
      "representative: ('iya', ['ため息']) orientation: NEGATIVE ,  activation: NEUTRAL\n",
      "representative: ('iya', ['嫌い']) orientation: NEGATIVE ,  activation: NEUTRAL\n",
      "representative: ('yorokobi', ['飽きる*CVS']) orientation: POSITIVE ,  activation: NEUTRAL\n"
     ]
    }
   ],
   "source": [
    "result_dict = {}\n",
    "no_emo = 0\n",
    "for tmp_text in df[df [\"retweet\"] < 10].text:\n",
    "#     print(tmp_text)\n",
    "    tmp_result = emotion_analyzer.analyze(tmp_text)\n",
    "    if \"orientation\" in tmp_result.keys():\n",
    "        print (\"representative:\",tmp_result[\"representative\"] , \"orientation:\" , tmp_result[\"orientation\"], \",  activation:\", tmp_result[\"activation\"])\n",
    "        if not tmp_result[\"representative\"][0] in result_dict.keys():\n",
    "            result_dict[tmp_result[\"representative\"][0]] = 1\n",
    "        else:\n",
    "            result_dict[tmp_result[\"representative\"][0]] += 1\n",
    "        \n",
    "    else:\n",
    "        no_emo+=1\n",
    "        "
   ]
  },
  {
   "cell_type": "code",
   "execution_count": 109,
   "metadata": {},
   "outputs": [
    {
     "data": {
      "text/plain": [
       "363"
      ]
     },
     "execution_count": 109,
     "metadata": {},
     "output_type": "execute_result"
    }
   ],
   "source": [
    "no_emo"
   ]
  },
  {
   "cell_type": "code",
   "execution_count": 110,
   "metadata": {},
   "outputs": [],
   "source": [
    "ordered_result = sorted(result_dict.items(), key=lambda x:x[1],  reverse=True)\n",
    "\n",
    "# for tmp_key in result.keys():\n",
    "#     val_dict=\n",
    "\n"
   ]
  },
  {
   "cell_type": "code",
   "execution_count": 111,
   "metadata": {},
   "outputs": [
    {
     "data": {
      "text/html": [
       "<font size='5' color='#FF7777'>結果<br>[('yorokobi', 22), ('ikari', 22), ('suki', 21), ('iya', 15), ('kowa', 12), ('odoroki', 8), ('yasu', 4), ('aware', 2), ('takaburi', 1)]</font>"
      ],
      "text/plain": [
       "<IPython.core.display.HTML object>"
      ]
     },
     "metadata": {},
     "output_type": "display_data"
    }
   ],
   "source": [
    "from IPython.display import display, HTML\n",
    "display(HTML(\"<font size='5' color='#FF7777'>結果<br>\" +str (ordered_result) + \"</font>\"))\n",
    "\n"
   ]
  },
  {
   "cell_type": "code",
   "execution_count": 112,
   "metadata": {},
   "outputs": [
    {
     "data": {
      "text/plain": [
       "\"[('yorokobi', 22), ('ikari', 22), ('suki', 21), ('iya', 15), ('kowa', 12), ('odoroki', 8), ('yasu', 4), ('aware', 2), ('takaburi', 1)]\""
      ]
     },
     "execution_count": 112,
     "metadata": {},
     "output_type": "execute_result"
    }
   ],
   "source": [
    "str (ordered_result)"
   ]
  },
  {
   "cell_type": "code",
   "execution_count": 113,
   "metadata": {},
   "outputs": [
    {
     "name": "stdout",
     "output_type": "stream",
     "text": [
      "感情_yorokobi\t:22人が感じた\n",
      "感情_ikari\t:22人が感じた\n",
      "感情_suki\t:21人が感じた\n",
      "感情_iya\t:15人が感じた\n",
      "感情_kowa\t:12人が感じた\n",
      "感情_odoroki\t:8人が感じた\n",
      "感情_yasu\t:4人が感じた\n",
      "感情_aware\t:2人が感じた\n",
      "感情_takaburi\t:1人が感じた\n"
     ]
    }
   ],
   "source": [
    "for x in ordered_result :\n",
    "    print(\"感情_\"+x[0]+\"\\t:\"+ str( x[1])+\"人が感じた\")"
   ]
  },
  {
   "cell_type": "code",
   "execution_count": 114,
   "metadata": {},
   "outputs": [],
   "source": [
    "# tableau用\n",
    "tableau_dict = {\n",
    "        \"iya\":0,\n",
    "    \"yorokobi\":0,\n",
    "    \"kowa\":0,\n",
    "    \"yasu\":0,\n",
    "    \"aware\":0,\n",
    "    \"suki\":0,\n",
    "    \"ikari\":0,\n",
    "    \"takaburi\":0,\n",
    "    \"haji\":0,\n",
    "    \"odoroki\":0,\n",
    "}\n",
    "\n",
    "for tmp in ordered_result :\n",
    "    tableau_dict[tmp[0]] = tmp[1]\n",
    "\n",
    "df_t = pd.DataFrame(tableau_dict,index=['num',]).T.reset_index().rename(columns={'index': 'emotion'})\n",
    "\n",
    "df_t[\"movie_name\"] = \"バイオハザード\"\n",
    "df_t[\"movie_date\"] = \"2021-03-26\"\n",
    "df_t[\"all_tweet_num\"] = len(df)\n",
    "df_t[\"tweet_num_no_many_retweet\"] = len(df[df [\"retweet\"] < 10])\n",
    "\n",
    "df_t.to_csv(df_t[\"movie_name\"][0]+\".csv\", encoding=\"shift_jis\")"
   ]
  }
 ],
 "metadata": {
  "kernelspec": {
   "display_name": "Python 3",
   "language": "python",
   "name": "python3"
  },
  "language_info": {
   "codemirror_mode": {
    "name": "ipython",
    "version": 3
   },
   "file_extension": ".py",
   "mimetype": "text/x-python",
   "name": "python",
   "nbconvert_exporter": "python",
   "pygments_lexer": "ipython3",
   "version": "3.7.6"
  }
 },
 "nbformat": 4,
 "nbformat_minor": 4
}
