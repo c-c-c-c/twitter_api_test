{
 "cells": [
  {
   "cell_type": "code",
   "execution_count": 18,
   "metadata": {},
   "outputs": [],
   "source": [
    "import pandas as pd"
   ]
  },
  {
   "cell_type": "code",
   "execution_count": 2,
   "metadata": {},
   "outputs": [
    {
     "data": {
      "text/plain": [
       "{'text': '彼のことは嫌いではない！(;´Д`)',\n",
       " 'emotion': defaultdict(list, {'yorokobi': ['嫌い*CVS'], 'suki': ['嫌い*CVS']}),\n",
       " 'orientation': 'POSITIVE',\n",
       " 'activation': 'NEUTRAL',\n",
       " 'emoticon': ['(;´Д`)'],\n",
       " 'intension': 2,\n",
       " 'intensifier': {'exclamation': ['！'],\n",
       "  'emotikony': ['´Д`', 'Д`', '´Д', '(;´Д`)']},\n",
       " 'representative': ('yorokobi', ['嫌い*CVS'])}"
      ]
     },
     "execution_count": 2,
     "metadata": {},
     "output_type": "execute_result"
    }
   ],
   "source": [
    "from mlask import MLAsk\n",
    "emotion_analyzer = MLAsk()\n"
   ]
  },
  {
   "cell_type": "code",
   "execution_count": 32,
   "metadata": {},
   "outputs": [],
   "source": [
    "df = pd.read_csv(\"./0326baio.csv\")"
   ]
  },
  {
   "cell_type": "code",
   "execution_count": 54,
   "metadata": {},
   "outputs": [
    {
     "name": "stdout",
     "output_type": "stream",
     "text": [
      "representative: ('iya', ['惜しい']) orientation: NEGATIVE ,  activation: NEUTRAL\n",
      "representative: ('suki', ['好き']) orientation: POSITIVE ,  activation: NEUTRAL\n",
      "representative: ('suki', ['懐かしい']) orientation: POSITIVE ,  activation: NEUTRAL\n",
      "representative: ('yorokobi', ['面白い']) orientation: POSITIVE ,  activation: NEUTRAL\n",
      "representative: ('kowa', ['怖い']) orientation: NEGATIVE ,  activation: ACTIVE\n",
      "representative: ('suki', ['懐かしい']) orientation: POSITIVE ,  activation: NEUTRAL\n",
      "representative: ('suki', ['懐かしい']) orientation: POSITIVE ,  activation: NEUTRAL\n",
      "representative: ('suki', ['好き']) orientation: POSITIVE ,  activation: NEUTRAL\n",
      "representative: ('suki', ['懐かしい']) orientation: POSITIVE ,  activation: NEUTRAL\n",
      "representative: ('yorokobi', ['面白い']) orientation: POSITIVE ,  activation: NEUTRAL\n",
      "representative: ('yorokobi', ['面白い']) orientation: POSITIVE ,  activation: NEUTRAL\n",
      "representative: ('suki', ['好き']) orientation: POSITIVE ,  activation: NEUTRAL\n",
      "representative: ('yorokobi', ['面白い']) orientation: POSITIVE ,  activation: NEUTRAL\n",
      "representative: ('kowa', ['気になる']) orientation: NEUTRAL ,  activation: ACTIVE\n",
      "representative: ('kowa', ['怖い']) orientation: NEGATIVE ,  activation: ACTIVE\n",
      "representative: ('yorokobi', ['面白い']) orientation: POSITIVE ,  activation: NEUTRAL\n",
      "representative: ('yorokobi', ['面白い']) orientation: POSITIVE ,  activation: NEUTRAL\n",
      "representative: ('kowa', ['不気味', '不気味さ']) orientation: NEGATIVE ,  activation: ACTIVE\n",
      "representative: ('aware', ['泣ける']) orientation: NEGATIVE ,  activation: PASSIVE\n",
      "representative: ('yasu', ['余裕']) orientation: POSITIVE ,  activation: PASSIVE\n",
      "representative: ('odoroki', ['衝撃']) orientation: NEUTRAL ,  activation: ACTIVE\n",
      "representative: ('iya', ['焼ける']) orientation: NEGATIVE ,  activation: NEUTRAL\n",
      "representative: ('suki', ['キスする']) orientation: POSITIVE ,  activation: NEUTRAL\n",
      "representative: ('yorokobi', ['面白い']) orientation: POSITIVE ,  activation: NEUTRAL\n",
      "representative: ('ikari', ['皮肉']) orientation: NEGATIVE ,  activation: ACTIVE\n",
      "representative: ('iya', ['意地悪']) orientation: NEGATIVE ,  activation: NEUTRAL\n",
      "representative: ('ikari', ['カット']) orientation: NEGATIVE ,  activation: ACTIVE\n",
      "representative: ('yorokobi', ['丁寧']) orientation: POSITIVE ,  activation: NEUTRAL\n",
      "representative: ('iya', ['最悪']) orientation: NEGATIVE ,  activation: NEUTRAL\n",
      "representative: ('iya', ['いや']) orientation: NEGATIVE ,  activation: NEUTRAL\n",
      "representative: ('yorokobi', ['幸せ']) orientation: POSITIVE ,  activation: NEUTRAL\n",
      "representative: ('yasu', ['簡単']) orientation: POSITIVE ,  activation: PASSIVE\n",
      "representative: ('odoroki', ['衝撃']) orientation: NEUTRAL ,  activation: ACTIVE\n",
      "representative: ('suki', ['懐かしい']) orientation: POSITIVE ,  activation: NEUTRAL\n",
      "representative: ('yorokobi', ['面白い']) orientation: POSITIVE ,  activation: NEUTRAL\n",
      "representative: ('odoroki', ['衝撃']) orientation: NEUTRAL ,  activation: ACTIVE\n",
      "representative: ('kowa', ['怖い']) orientation: NEGATIVE ,  activation: ACTIVE\n",
      "representative: ('odoroki', ['衝撃']) orientation: NEUTRAL ,  activation: ACTIVE\n",
      "representative: ('suki', ['好き']) orientation: POSITIVE ,  activation: NEUTRAL\n",
      "representative: ('kowa', ['怖い']) orientation: NEGATIVE ,  activation: ACTIVE\n",
      "representative: ('odoroki', ['衝撃']) orientation: NEUTRAL ,  activation: ACTIVE\n",
      "representative: ('kowa', ['怖い']) orientation: NEGATIVE ,  activation: ACTIVE\n",
      "representative: ('odoroki', ['衝撃']) orientation: NEUTRAL ,  activation: ACTIVE\n",
      "representative: ('ikari', ['カット']) orientation: NEGATIVE ,  activation: ACTIVE\n",
      "representative: ('ikari', ['カット']) orientation: NEGATIVE ,  activation: ACTIVE\n",
      "representative: ('yorokobi', ['面白い']) orientation: POSITIVE ,  activation: NEUTRAL\n",
      "representative: ('suki', ['好き']) orientation: POSITIVE ,  activation: NEUTRAL\n",
      "representative: ('kowa', ['怖い']) orientation: NEGATIVE ,  activation: ACTIVE\n",
      "representative: ('ikari', ['カット']) orientation: NEGATIVE ,  activation: ACTIVE\n",
      "representative: ('ikari', ['解ける*CVS']) orientation: mostly_NEGATIVE ,  activation: ACTIVE\n",
      "representative: ('ikari', ['カット']) orientation: NEGATIVE ,  activation: ACTIVE\n",
      "representative: ('suki', ['かわいい']) orientation: POSITIVE ,  activation: NEUTRAL\n",
      "representative: ('yorokobi', ['楽しい']) orientation: POSITIVE ,  activation: NEUTRAL\n",
      "representative: ('iya', ['嫌']) orientation: NEGATIVE ,  activation: NEUTRAL\n",
      "representative: ('ikari', ['カット']) orientation: NEGATIVE ,  activation: ACTIVE\n",
      "representative: ('suki', ['懐かしい']) orientation: POSITIVE ,  activation: NEUTRAL\n",
      "representative: ('suki', ['懐かしい']) orientation: POSITIVE ,  activation: NEUTRAL\n",
      "representative: ('suki', ['好き']) orientation: POSITIVE ,  activation: NEUTRAL\n",
      "representative: ('iya', ['残念']) orientation: NEGATIVE ,  activation: NEUTRAL\n",
      "representative: ('ikari', ['カット']) orientation: NEGATIVE ,  activation: ACTIVE\n",
      "representative: ('kowa', ['怯む']) orientation: NEGATIVE ,  activation: ACTIVE\n",
      "representative: ('takaburi', ['緊張', '緊張感']) orientation: NEUTRAL ,  activation: ACTIVE\n",
      "representative: ('kowa', ['怖い']) orientation: NEGATIVE ,  activation: ACTIVE\n",
      "representative: ('ikari', ['カット']) orientation: NEGATIVE ,  activation: ACTIVE\n",
      "representative: ('ikari', ['カット']) orientation: NEGATIVE ,  activation: ACTIVE\n",
      "representative: ('ikari', ['カット']) orientation: NEGATIVE ,  activation: ACTIVE\n",
      "representative: ('ikari', ['カット']) orientation: NEGATIVE ,  activation: ACTIVE\n",
      "representative: ('kowa', ['怖い']) orientation: NEGATIVE ,  activation: ACTIVE\n",
      "representative: ('ikari', ['カット']) orientation: NEGATIVE ,  activation: ACTIVE\n",
      "representative: ('ikari', ['カット']) orientation: NEGATIVE ,  activation: ACTIVE\n",
      "representative: ('yorokobi', ['面白い']) orientation: POSITIVE ,  activation: NEUTRAL\n",
      "representative: ('suki', ['大好き']) orientation: POSITIVE ,  activation: NEUTRAL\n",
      "representative: ('yorokobi', ['楽しむ']) orientation: POSITIVE ,  activation: NEUTRAL\n",
      "representative: ('iya', ['悪意']) orientation: NEGATIVE ,  activation: NEUTRAL\n",
      "representative: ('suki', ['大好き']) orientation: POSITIVE ,  activation: NEUTRAL\n",
      "representative: ('suki', ['かわいい', '好み']) orientation: POSITIVE ,  activation: NEUTRAL\n",
      "representative: ('odoroki', ['驚かす']) orientation: mostly_NEGATIVE ,  activation: ACTIVE\n",
      "representative: ('yorokobi', ['笑う']) orientation: POSITIVE ,  activation: NEUTRAL\n",
      "representative: ('odoroki', ['驚く']) orientation: NEUTRAL ,  activation: ACTIVE\n",
      "representative: ('yorokobi', ['笑う']) orientation: POSITIVE ,  activation: NEUTRAL\n",
      "representative: ('suki', ['懐かしい']) orientation: POSITIVE ,  activation: NEUTRAL\n",
      "representative: ('yorokobi', ['面白い']) orientation: POSITIVE ,  activation: NEUTRAL\n",
      "representative: ('yorokobi', ['面白い']) orientation: POSITIVE ,  activation: NEUTRAL\n",
      "representative: ('ikari', ['カット']) orientation: NEGATIVE ,  activation: ACTIVE\n",
      "representative: ('yorokobi', ['面白い']) orientation: POSITIVE ,  activation: NEUTRAL\n",
      "representative: ('yasu', ['安心']) orientation: POSITIVE ,  activation: PASSIVE\n",
      "representative: ('suki', ['かわいい']) orientation: POSITIVE ,  activation: NEUTRAL\n",
      "representative: ('ikari', ['カット']) orientation: NEGATIVE ,  activation: ACTIVE\n",
      "representative: ('kowa', ['怖い']) orientation: NEGATIVE ,  activation: ACTIVE\n",
      "representative: ('iya', ['いや']) orientation: NEGATIVE ,  activation: NEUTRAL\n",
      "representative: ('ikari', ['カット']) orientation: NEGATIVE ,  activation: ACTIVE\n",
      "representative: ('suki', ['大好き']) orientation: mostly_POSITIVE ,  activation: ACTIVE\n",
      "representative: ('ikari', ['カット']) orientation: NEGATIVE ,  activation: ACTIVE\n",
      "representative: ('ikari', ['カット']) orientation: NEGATIVE ,  activation: ACTIVE\n",
      "representative: ('iya', ['揶揄']) orientation: NEGATIVE ,  activation: NEUTRAL\n",
      "representative: ('yasu', ['安心']) orientation: POSITIVE ,  activation: PASSIVE\n",
      "representative: ('ikari', ['カット']) orientation: NEGATIVE ,  activation: ACTIVE\n",
      "representative: ('aware', ['涙']) orientation: NEGATIVE ,  activation: PASSIVE\n",
      "representative: ('iya', ['ノロマ']) orientation: NEGATIVE ,  activation: NEUTRAL\n",
      "representative: ('iya', ['嫌い']) orientation: NEGATIVE ,  activation: NEUTRAL\n",
      "representative: ('iya', ['嘘つき']) orientation: NEGATIVE ,  activation: NEUTRAL\n",
      "representative: ('yorokobi', ['楽しみ']) orientation: POSITIVE ,  activation: NEUTRAL\n",
      "representative: ('yorokobi', ['楽しみ']) orientation: POSITIVE ,  activation: NEUTRAL\n",
      "representative: ('ikari', ['カット']) orientation: NEGATIVE ,  activation: ACTIVE\n",
      "representative: ('iya', ['ため息']) orientation: NEGATIVE ,  activation: NEUTRAL\n",
      "representative: ('iya', ['嫌い']) orientation: NEGATIVE ,  activation: NEUTRAL\n",
      "representative: ('yorokobi', ['飽きる*CVS']) orientation: POSITIVE ,  activation: NEUTRAL\n"
     ]
    }
   ],
   "source": [
    "result_dict = {}\n",
    "no_emo = 0\n",
    "for tmp_text in df[df [\"retweet\"] < 10].text:\n",
    "#     print(tmp_text)\n",
    "    tmp_result = emotion_analyzer.analyze(tmp_text)\n",
    "    if \"orientation\" in tmp_result.keys():\n",
    "        print (\"representative:\",tmp_result[\"representative\"] , \"orientation:\" , tmp_result[\"orientation\"], \",  activation:\", tmp_result[\"activation\"])\n",
    "        if not tmp_result[\"representative\"][0] in result_dict.keys():\n",
    "            result_dict[tmp_result[\"representative\"][0]] = 1\n",
    "        else:\n",
    "            result_dict[tmp_result[\"representative\"][0]] += 1\n",
    "        \n",
    "    else:\n",
    "        no_emo+=1\n",
    "        "
   ]
  },
  {
   "cell_type": "code",
   "execution_count": 48,
   "metadata": {},
   "outputs": [
    {
     "data": {
      "text/plain": [
       "363"
      ]
     },
     "execution_count": 48,
     "metadata": {},
     "output_type": "execute_result"
    }
   ],
   "source": [
    "no_emo"
   ]
  },
  {
   "cell_type": "code",
   "execution_count": 71,
   "metadata": {},
   "outputs": [
    {
     "data": {
      "text/html": [
       "<font size='5' color='#FF7777'>結果<br>{'iya': 15, 'suki': 21, 'yorokobi': 22, 'kowa': 12, 'aware': 2, 'yasu': 4, 'odoroki': 8, 'ikari': 22, 'takaburi': 1}</font>"
      ],
      "text/plain": [
       "<IPython.core.display.HTML object>"
      ]
     },
     "metadata": {},
     "output_type": "display_data"
    }
   ],
   "source": [
    "from IPython.display import display, HTML\n",
    "display(HTML(\"<font size='5' color='#FF7777'>結果<br>\" +str (result_dict) + \"</font>\"))\n",
    "\n"
   ]
  },
  {
   "cell_type": "code",
   "execution_count": null,
   "metadata": {},
   "outputs": [],
   "source": []
  },
  {
   "cell_type": "code",
   "execution_count": null,
   "metadata": {},
   "outputs": [],
   "source": []
  }
 ],
 "metadata": {
  "kernelspec": {
   "display_name": "Python 3",
   "language": "python",
   "name": "python3"
  },
  "language_info": {
   "codemirror_mode": {
    "name": "ipython",
    "version": 3
   },
   "file_extension": ".py",
   "mimetype": "text/x-python",
   "name": "python",
   "nbconvert_exporter": "python",
   "pygments_lexer": "ipython3",
   "version": "3.7.6"
  }
 },
 "nbformat": 4,
 "nbformat_minor": 4
}
