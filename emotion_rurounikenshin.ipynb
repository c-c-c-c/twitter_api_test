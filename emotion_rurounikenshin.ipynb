{
 "cells": [
  {
   "cell_type": "markdown",
   "metadata": {},
   "source": [
    "# 2021.04.30るろうに剣心の金ローの口コミ"
   ]
  },
  {
   "cell_type": "code",
   "execution_count": 12,
   "metadata": {},
   "outputs": [],
   "source": [
    "import pandas as pd"
   ]
  },
  {
   "cell_type": "code",
   "execution_count": 13,
   "metadata": {},
   "outputs": [],
   "source": [
    "from mlask import MLAsk\n",
    "emotion_analyzer = MLAsk()\n"
   ]
  },
  {
   "cell_type": "code",
   "execution_count": 14,
   "metadata": {},
   "outputs": [],
   "source": [
    "df = pd.read_csv(\"./2021-04-30_るろうに剣心.csv\")"
   ]
  },
  {
   "cell_type": "code",
   "execution_count": 15,
   "metadata": {},
   "outputs": [
    {
     "data": {
      "text/plain": [
       "5     次回の金曜ロードショータイタニックなの嬉しすぎる😭😭🤍ほんとに大好きな映画！！！！！！ #金...\n",
       "9     今宵の #金曜ロードSHOW での、るろうに剣心から、今は公開中の映画までの間は、何作あるん...\n",
       "25    RT @Yukidaruma_4488: 来週の金曜ロードショー、タイタニックだけど‥ジャッ...\n",
       "35    るろうに剣心おわった⚔️主題歌流してぇ〜🥺そして、来週はタイタニック？その次は困惑の青いウィ...\n",
       "39    オフショットでのタイタニックのセットでのケイト・ウィンスレットさんとレオナルド・ディカプリオ...\n",
       "55    来週のタイタニック、レオ様の吹き替えが石田彰さんだwww #金曜ロードショー #金曜ロードS...\n",
       "60    #タイタニック VHSビデオで見たな#kinro　#金ロー#金曜ロード #金曜ロードショー ...\n",
       "64    おい！おまいら！実写版『アラジン』はマジ名作だからな！！！！私、３回も観に行ったんだからな！...\n",
       "66                            やっぱすごいな、るろうに剣心。#金曜ロードSHOW\n",
       "68    やっぱ何度観てもアクション凄いな欲を言えば過去作全てして欲しかったな…w映画見に行きたいな#...\n",
       "70                              青いウィル・スミス（笑） #金曜ロードSHOW\n",
       "72      石田さんはやばいでしょ当時のディカプリオの声帯解釈が一緒でしかない(?) #金曜ロードSHOW\n",
       "73              るろうに剣心 おもしろかった～～！！😀#金曜ロードショー #金曜ロードSHOW\n",
       "77              ｹｯﾁｬｺ…#るろうに剣心 #金曜ロードショー #金ロー #金曜ロードSHOW\n",
       "78            ぶっちゃけ、２分以上経っていることについて・・・#金曜ロードSHOW#るろうに剣心\n",
       "79    カタナ返しなのにカタナ返し返しにみえるが逆刃刀なので正解にして成敗！薫殿で阻止！#るろうに剣...\n",
       "80    #ディズニー #ディズニー映画#アラジン  #金曜ロードショー #金曜ロードshow #シネ...\n",
       "81    あーそうか綾野さんと佐藤さんって亜人じゃん！サンクスモニカのシーンで言うの今更過ぎるけどもｗ...\n",
       "82    私、ぶっちゃけ、剣心より抜刀斎の方が好きなんだよね……。#金曜ロードSHOW #るろうに剣心...\n",
       "83    #名探偵コナン #名探偵コナン天国へのカウントダウン #金曜ロードショー #金曜ロードsho...\n",
       "Name: text, dtype: object"
      ]
     },
     "execution_count": 15,
     "metadata": {},
     "output_type": "execute_result"
    }
   ],
   "source": [
    "# tweetサンプル\n",
    "df[df [\"retweet\"] < 10].text[:20]"
   ]
  },
  {
   "cell_type": "code",
   "execution_count": 16,
   "metadata": {},
   "outputs": [
    {
     "name": "stdout",
     "output_type": "stream",
     "text": [
      "representative: ('suki', ['大好き']) orientation: POSITIVE ,  activation: NEUTRAL\n",
      "representative: ('yorokobi', ['面白い']) orientation: POSITIVE ,  activation: NEUTRAL\n",
      "representative: ('iya', ['困惑']) orientation: NEGATIVE ,  activation: NEUTRAL\n",
      "representative: ('suki', ['好き']) orientation: POSITIVE ,  activation: NEUTRAL\n",
      "representative: ('aware', ['土下座']) orientation: NEGATIVE ,  activation: PASSIVE\n",
      "representative: ('suki', ['好き']) orientation: POSITIVE ,  activation: NEUTRAL\n",
      "representative: ('ikari', ['カット']) orientation: NEGATIVE ,  activation: ACTIVE\n",
      "representative: ('suki', ['懐かしい']) orientation: POSITIVE ,  activation: NEUTRAL\n",
      "representative: ('suki', ['大好き']) orientation: POSITIVE ,  activation: NEUTRAL\n",
      "representative: ('iya', ['痛い']) orientation: NEGATIVE ,  activation: NEUTRAL\n",
      "representative: ('ikari', ['皮肉']) orientation: NEGATIVE ,  activation: ACTIVE\n"
     ]
    }
   ],
   "source": [
    "result_dict = {}\n",
    "no_emo = 0\n",
    "for tmp_text in df[df [\"retweet\"] < 10].text:\n",
    "#     print(tmp_text)\n",
    "    tmp_result = emotion_analyzer.analyze(tmp_text)\n",
    "    if \"orientation\" in tmp_result.keys():\n",
    "        print (\"representative:\",tmp_result[\"representative\"] , \"orientation:\" , tmp_result[\"orientation\"], \",  activation:\", tmp_result[\"activation\"])\n",
    "        if not tmp_result[\"representative\"][0] in result_dict.keys():\n",
    "            result_dict[tmp_result[\"representative\"][0]] = 1\n",
    "        else:\n",
    "            result_dict[tmp_result[\"representative\"][0]] += 1\n",
    "        \n",
    "    else:\n",
    "        no_emo+=1\n",
    "        "
   ]
  },
  {
   "cell_type": "code",
   "execution_count": 17,
   "metadata": {},
   "outputs": [
    {
     "data": {
      "text/plain": [
       "81"
      ]
     },
     "execution_count": 17,
     "metadata": {},
     "output_type": "execute_result"
    }
   ],
   "source": [
    "no_emo"
   ]
  },
  {
   "cell_type": "code",
   "execution_count": 18,
   "metadata": {},
   "outputs": [],
   "source": [
    "ordered_result = sorted(result_dict.items(), key=lambda x:x[1],  reverse=True)\n",
    "\n",
    "# for tmp_key in result.keys():\n",
    "#     val_dict=\n",
    "\n"
   ]
  },
  {
   "cell_type": "code",
   "execution_count": 19,
   "metadata": {},
   "outputs": [
    {
     "data": {
      "text/html": [
       "<font size='5' color='#FF7777'>結果<br>[('suki', 5), ('iya', 2), ('ikari', 2), ('yorokobi', 1), ('aware', 1)]</font>"
      ],
      "text/plain": [
       "<IPython.core.display.HTML object>"
      ]
     },
     "metadata": {},
     "output_type": "display_data"
    }
   ],
   "source": [
    "from IPython.display import display, HTML\n",
    "display(HTML(\"<font size='5' color='#FF7777'>結果<br>\" +str (ordered_result) + \"</font>\"))\n",
    "\n"
   ]
  },
  {
   "cell_type": "code",
   "execution_count": 20,
   "metadata": {},
   "outputs": [
    {
     "data": {
      "text/plain": [
       "\"[('suki', 5), ('iya', 2), ('ikari', 2), ('yorokobi', 1), ('aware', 1)]\""
      ]
     },
     "execution_count": 20,
     "metadata": {},
     "output_type": "execute_result"
    }
   ],
   "source": [
    "str (ordered_result)"
   ]
  },
  {
   "cell_type": "code",
   "execution_count": 21,
   "metadata": {},
   "outputs": [
    {
     "name": "stdout",
     "output_type": "stream",
     "text": [
      "感情_suki\t:5人が感じた\n",
      "感情_iya\t:2人が感じた\n",
      "感情_ikari\t:2人が感じた\n",
      "感情_yorokobi\t:1人が感じた\n",
      "感情_aware\t:1人が感じた\n"
     ]
    }
   ],
   "source": [
    "for x in ordered_result :\n",
    "    print(\"感情_\"+x[0]+\"\\t:\"+ str( x[1])+\"人が感じた\")"
   ]
  },
  {
   "cell_type": "code",
   "execution_count": 22,
   "metadata": {},
   "outputs": [],
   "source": [
    "# tableau用\n",
    "tableau_dict = {\n",
    "        \"iya\":0,\n",
    "    \"yorokobi\":0,\n",
    "    \"kowa\":0,\n",
    "    \"yasu\":0,\n",
    "    \"aware\":0,\n",
    "    \"suki\":0,\n",
    "    \"ikari\":0,\n",
    "    \"takaburi\":0,\n",
    "    \"haji\":0,\n",
    "    \"odoroki\":0,\n",
    "}\n",
    "\n",
    "for tmp in ordered_result :\n",
    "    tableau_dict[tmp[0]] = tmp[1]\n",
    "\n",
    "df_t = pd.DataFrame(tableau_dict,index=['num',]).T.reset_index().rename(columns={'index': 'emotion'})\n",
    "\n",
    "df_t[\"movie_name\"] = \"るろうに剣心\"\n",
    "df_t[\"movie_date\"] = \"2021-04-30\"\n",
    "df_t[\"all_tweet_num\"] = len(df)\n",
    "df_t[\"tweet_num_no_many_retweet\"] = len(df[df [\"retweet\"] < 10])\n",
    "\n",
    "df_t.to_csv(df_t[\"movie_name\"][0]+\".csv\", encoding=\"shift_jis\")"
   ]
  }
 ],
 "metadata": {
  "kernelspec": {
   "display_name": "Python 3",
   "language": "python",
   "name": "python3"
  },
  "language_info": {
   "codemirror_mode": {
    "name": "ipython",
    "version": 3
   },
   "file_extension": ".py",
   "mimetype": "text/x-python",
   "name": "python",
   "nbconvert_exporter": "python",
   "pygments_lexer": "ipython3",
   "version": "3.7.6"
  }
 },
 "nbformat": 4,
 "nbformat_minor": 4
}
