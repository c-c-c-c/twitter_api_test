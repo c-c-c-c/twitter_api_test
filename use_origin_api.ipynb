{
 "cells": [
  {
   "cell_type": "code",
   "execution_count": 95,
   "metadata": {
    "code_folding": [
     0
    ]
   },
   "outputs": [],
   "source": [
    "# import module\n",
    "from datetime import datetime\n",
    "from datetime import timedelta\n",
    "import requests\n",
    "import os\n",
    "import json\n",
    "import Bearer\n",
    "import pytz\n",
    "import time\n"
   ]
  },
  {
   "cell_type": "code",
   "execution_count": 96,
   "metadata": {
    "code_folding": [
     0
    ]
   },
   "outputs": [],
   "source": [
    "# 時刻を変換する関数\n",
    "\n",
    "def make_local_dt (dt):\n",
    "    utc_dt = dt - timedelta(hours=+9)\n",
    "    return (pytz.utc.localize(utc_dt).astimezone(pytz.timezone(\"Asia/Tokyo\")) )\n",
    "\n",
    "    \n",
    "def dt2localiso(dt):\n",
    "    # この段階で\n",
    "    if dt is None:\n",
    "        return ''\n",
    "    \n",
    "    return dt.isoformat()\n",
    "\n",
    "def iso_to_localdt(iso_str):\n",
    "    dt = None\n",
    "    try:\n",
    "        dt = datetime.strptime(iso_str, '%Y-%m-%dT%H:%M:%S.%fZ')\n",
    "        dt = pytz.utc.localize(dt).astimezone(pytz.timezone(\"Asia/Tokyo\"))\n",
    "    except ValueError:\n",
    "        try:\n",
    "            dt = datetime.strptime(iso_str, '%Y-%m-%dT%H:%M:%S.%f%z')\n",
    "            dt = dt.astimezone(pytz.timezone(\"Asia/Tokyo\"))\n",
    "        except ValueError:\n",
    "            pass\n",
    "    return dt"
   ]
  },
  {
   "cell_type": "code",
   "execution_count": 97,
   "metadata": {},
   "outputs": [
    {
     "data": {
      "text/plain": [
       "'2021-04-23_名探偵天国へのカウントダウン'"
      ]
     },
     "execution_count": 97,
     "metadata": {},
     "output_type": "execute_result"
    }
   ],
   "source": [
    "movie_name"
   ]
  },
  {
   "cell_type": "code",
   "execution_count": 98,
   "metadata": {},
   "outputs": [],
   "source": [
    "# 開始日\n",
    "# start_time_dt = make_local_dt(datetime(2021, 3, 26, 21, 0, 0) )# バイオハザード\n",
    "#start_time_dt = make_local_dt(datetime(2021, 4, 2, 21, 0, 0) )# 2021.04.02 ハウルの動く城\n",
    "#movie_name = str(start_time_dt.date())+\"_\"+\"ハウルの動く城\"\n",
    "\n",
    "# 2021.04.09 ゲド戦記\n",
    "# start_time_dt = make_local_dt(datetime(2021, 4, 9, 21, 0, 0) )\n",
    "# movie_name = str(start_time_dt.date())+\"_\"+\"ゲド戦記\"\n",
    "\n",
    "# 2021.04.16 名探偵コナン異次元の狙撃手\n",
    "# start_time_dt = make_local_dt(datetime(2021, 4, 16, 21, 0, 0) )\n",
    "# movie_name = str(start_time_dt.date())+\"_\"+\"名探偵コナン異次元の狙撃手\"\n",
    "\n",
    "# 2021.04.23 名探偵コナン天国へのカウントダウン\n",
    "#start_time_dt = make_local_dt(datetime(2021, 4, 23, 21, 0, 0) )\n",
    "#movie_name = str(start_time_dt.date())+\"_\"+\"名探偵天国へのカウントダウン\"\n",
    "\n",
    "# 2021.04.30 るろうに剣心\n",
    "start_time_dt = make_local_dt(datetime(2021, 4, 30, 21, 0, 0) )\n",
    "movie_name = str(start_time_dt.date())+\"_\"+\"るろうに剣心\"\n",
    "\n",
    "# 終了日\n",
    "end_time_dt = start_time_dt + timedelta(hours=+3)\n",
    "\n",
    "start_time = dt2localiso(start_time_dt)\n",
    "end_time = dt2localiso(end_time_dt)"
   ]
  },
  {
   "cell_type": "code",
   "execution_count": 99,
   "metadata": {},
   "outputs": [],
   "source": [
    "# To set your environment variables in your terminal run the following line:\n",
    "# export 'BEARER_TOKEN'='<your_bearer_token>'\n",
    "bearer_token = Bearer.BEARER\n",
    "\n",
    "search_url = \"https://api.twitter.com/2/tweets/search/all\"\n",
    "\n",
    "def create_headers(bearer_token):\n",
    "    headers = {\"Authorization\": \"Bearer {}\".format(bearer_token)}\n",
    "    return headers\n",
    "\n",
    "def connect_to_endpoint(url, headers, params):\n",
    "    response = requests.request(\"GET\", search_url, headers=headers, params=params)\n",
    "    print(\"response_st\",response.status_code)\n",
    "    if response.status_code != 200:\n",
    "        raise Exception(\"response_st\",response.status_code, response.text)\n",
    "    return response.json()\n",
    "\n"
   ]
  },
  {
   "cell_type": "code",
   "execution_count": 100,
   "metadata": {},
   "outputs": [
    {
     "name": "stdout",
     "output_type": "stream",
     "text": [
      "response_st 200\n",
      "1388145688760918018 2021-04-30 23:58:17+09:00\n",
      "1388136531429232640 2021-04-30 23:21:54+09:00\n",
      "1388132016416202753 2021-04-30 23:03:57+09:00\n",
      "1388130726101487617 2021-04-30 22:58:49+09:00\n",
      "1388130160826675203 2021-04-30 22:56:35+09:00\n",
      "1388129661675204612 2021-04-30 22:54:36+09:00\n",
      "1388129466526801921 2021-04-30 22:53:49+09:00\n",
      "1388129294468018177 2021-04-30 22:53:08+09:00\n",
      "1388127245953208321 2021-04-30 22:45:00+09:00\n",
      "1388123978292633601 2021-04-30 22:32:01+09:00\n",
      "1388119596582924288 2021-04-30 22:14:36+09:00\n",
      "1388115985454931969 2021-04-30 22:00:15+09:00\n",
      "1388111629544353797 2021-04-30 21:42:57+09:00\n",
      "1388108373917270017 2021-04-30 21:30:00+09:00\n",
      "1388105012316835842 2021-04-30 21:16:39+09:00\n",
      "1388103319067906052 2021-04-30 21:09:55+09:00\n",
      "1388101974470447106 2021-04-30 21:04:35+09:00\n",
      "1\n",
      "1388101141066518529\n",
      "response_st 200\n",
      "1388100783623663619 2021-04-30 20:59:51+09:00\n"
     ]
    }
   ],
   "source": [
    "# Optional params: start_time,end_time,since_id,until_id,max_results,next_token,\n",
    "# expansions,tweet.fields,media.fields,poll.fields,place.fields,user.fields\n",
    "query_params = {'query': '#金曜ロードSHOW',\n",
    "                'tweet.fields': \"created_at,author_id,public_metrics\", # スペースをいれない\n",
    "                'max_results' : 500,\n",
    "                \"start_time\":start_time ,\n",
    "               \"end_time\": end_time,\n",
    "               }\n",
    "\n",
    "json_response = None\n",
    "query_params.pop(\"until_id\", None)\n",
    "tweet_data = []\n",
    "\n",
    "for i in range(10):\n",
    "    time.sleep(1) # 連続するとエラーになる\n",
    "    if json_response:\n",
    "        print(i)\n",
    "        query_params.pop(\"start_time\", None)\n",
    "        query_params.pop(\"end_time\", None)\n",
    "        query_params[\"until_id\"] = int(json_response[\"data\"][-1][\"id\"])\n",
    "        \n",
    "        print(query_params[\"until_id\"])\n",
    "    \n",
    "    \n",
    "    json_response = connect_to_endpoint(search_url, \n",
    "                                    create_headers(bearer_token), # headerを作る\n",
    "                                    query_params,\n",
    "                                    )\n",
    "    for i,tmp_content in enumerate(json_response[\"data\"]):\n",
    "        \n",
    "        \n",
    "        try:\n",
    "            tweet_data.append([tmp_content[\"id\"], \n",
    "                               tmp_content[\"created_at\"], tmp_content[\"text\"].replace('\\n',''),\n",
    "                               tmp_content[\"public_metrics\"][\"like_count\"],\n",
    "                               tmp_content[\"public_metrics\"][\"retweet_count\"], \n",
    "                               tmp_content[\"author_id\"] ])\n",
    "        except Exception as e:\n",
    "            print(e)\n",
    "        \n",
    "        \n",
    "        if i % 10 == 0:\n",
    "            created = iso_to_localdt(tmp_content[\"created_at\"])\n",
    "            print(tmp_content[\"id\"], created  )\n",
    "            \n",
    "        if created < start_time_dt :\n",
    "            break\n",
    "    \n",
    "    if created < start_time_dt :\n",
    "        break\n",
    "    "
   ]
  },
  {
   "cell_type": "code",
   "execution_count": 101,
   "metadata": {},
   "outputs": [],
   "source": [
    "import pandas as pd\n",
    "df = pd.DataFrame(tweet_data, columns = [\"tweet_id\", \"date\",\"text\",\"like\",\"retweet\", \"author_id\"])\n",
    "df.set_index(\"tweet_id\").to_csv(\"./\"+ movie_name +\".csv\")"
   ]
  },
  {
   "cell_type": "code",
   "execution_count": 102,
   "metadata": {},
   "outputs": [],
   "source": [
    "# !pip install pymlask"
   ]
  },
  {
   "cell_type": "code",
   "execution_count": null,
   "metadata": {},
   "outputs": [],
   "source": []
  },
  {
   "cell_type": "code",
   "execution_count": null,
   "metadata": {},
   "outputs": [],
   "source": []
  }
 ],
 "metadata": {
  "kernelspec": {
   "display_name": "Python 3",
   "language": "python",
   "name": "python3"
  },
  "language_info": {
   "codemirror_mode": {
    "name": "ipython",
    "version": 3
   },
   "file_extension": ".py",
   "mimetype": "text/x-python",
   "name": "python",
   "nbconvert_exporter": "python",
   "pygments_lexer": "ipython3",
   "version": "3.7.6"
  }
 },
 "nbformat": 4,
 "nbformat_minor": 4
}
